{
 "cells": [
  {
   "cell_type": "markdown",
   "metadata": {},
   "source": [
    "# Looking at the Big Picture"
   ]
  },
  {
   "cell_type": "code",
   "execution_count": null,
   "metadata": {},
   "outputs": [],
   "source": []
  },
  {
   "cell_type": "code",
   "execution_count": null,
   "metadata": {},
   "outputs": [],
   "source": []
  },
  {
   "cell_type": "code",
   "execution_count": null,
   "metadata": {},
   "outputs": [],
   "source": [
    "import pandas as pd\n",
    "import numpy as np\n",
    "import matplotlib.pyplot as plt\n",
    "import seaborn as sns\n",
    "\n"
   ]
  },
  {
   "cell_type": "markdown",
   "metadata": {},
   "source": [
    "# Getting the Data"
   ]
  },
  {
   "cell_type": "code",
   "execution_count": null,
   "metadata": {},
   "outputs": [],
   "source": [
    "\n",
    "path = \"https://raw.githubusercontent.com/rohitgupta29/Hackathron_1/master/hackpredict_homestay/Data/Train.csv\"\n",
    "df = pd.read_csv(path)"
   ]
  },
  {
   "cell_type": "markdown",
   "metadata": {},
   "source": [
    "## An overview of the Data"
   ]
  },
  {
   "cell_type": "code",
   "execution_count": null,
   "metadata": {},
   "outputs": [],
   "source": [
    "\n",
    "df.drop([\"id\",\"host_id\"],axis = 1)\n",
    "\n",
    "%matplotlib inline \n",
    "import matplotlib.pyplot as plt\n",
    "\n",
    "df.hist(bins = 25, figsize = (20,15))\n",
    "plt.show()"
   ]
  },
  {
   "cell_type": "code",
   "execution_count": null,
   "metadata": {},
   "outputs": [],
   "source": [
    "df[\"neighbourhood_group\"].value_counts()\n"
   ]
  },
  {
   "cell_type": "markdown",
   "metadata": {},
   "source": [
    "### Neighbourhood_group"
   ]
  },
  {
   "cell_type": "code",
   "execution_count": null,
   "metadata": {},
   "outputs": [],
   "source": [
    "# import plotly.express as px\n",
    "# import folium\n",
    "\n",
    "# stays_lat_long = df.groupby('neighbourhood_group').first().loc[:, ['longitude', 'latitude']].assign(\n",
    "#     n = df.groupby('neighbourhood_group').neighbourhood.count()\n",
    "# )\n",
    "\n",
    "# m = folium.Map(\n",
    "#     location=[40.76, -73.895],\n",
    "#     zoom_start=4\n",
    "# )\n",
    "\n",
    "# max_n_stays = stays_lat_long.n.max()\n",
    "\n",
    "# stays_lat_long.apply(lambda ll: folium.Circle(radius=2000 * (ll.n / max_n_stays),\n",
    "#                                               location=[ll.latitude, ll.longitude],\n",
    "#                                               fill=True,\n",
    "#                                               color='indianred',\n",
    "#                                               popup=ll.name).add_to(m), axis='columns')\n",
    "\n",
    "# m"
   ]
  },
  {
   "cell_type": "markdown",
   "metadata": {},
   "source": [
    "### Neighbourhood "
   ]
  },
  {
   "cell_type": "code",
   "execution_count": null,
   "metadata": {},
   "outputs": [],
   "source": [
    "# import folium\n",
    "\n",
    "# stays_lat_long = df.groupby('neighbourhood').first().loc[:, ['longitude', 'latitude']].assign(\n",
    "#     n = df.groupby('neighbourhood').neighbourhood.count()\n",
    "# )\n",
    "\n",
    "# m = folium.Map(\n",
    "#     location=[40.76, -73.895],\n",
    "#     zoom_start=4\n",
    "# )\n",
    "\n",
    "# max_n_stays = stays_lat_long.n.max()\n",
    "\n",
    "# stays_lat_long.apply(lambda ll: folium.Circle(radius=2000 * (ll.n / max_n_stays),\n",
    "#                                               location=[ll.latitude, ll.longitude],\n",
    "#                                               fill=True,\n",
    "#                                               color='indianred',\n",
    "#                                               popup=ll.name).add_to(m), axis='columns')\n",
    "\n",
    "# m"
   ]
  },
  {
   "cell_type": "code",
   "execution_count": null,
   "metadata": {},
   "outputs": [],
   "source": [
    "df[\"neighbourhood\"].value_counts()"
   ]
  },
  {
   "cell_type": "code",
   "execution_count": null,
   "metadata": {},
   "outputs": [],
   "source": []
  },
  {
   "cell_type": "code",
   "execution_count": null,
   "metadata": {},
   "outputs": [],
   "source": [
    "df[\"room_type\"].value_counts()"
   ]
  },
  {
   "cell_type": "code",
   "execution_count": null,
   "metadata": {},
   "outputs": [],
   "source": [
    "import matplotlib.pyplot as plt\n",
    "import pandas as pd\n",
    "\n",
    "df.groupby(['neighbourhood_group','room_type']).size().unstack().plot(kind='bar',stacked=True)\n",
    "plt.show()"
   ]
  },
  {
   "cell_type": "code",
   "execution_count": null,
   "metadata": {},
   "outputs": [],
   "source": [
    "df.groupby(['neighbourhood','room_type']).size().unstack().plot(kind='bar',stacked=True)\n",
    "plt.show()"
   ]
  },
  {
   "cell_type": "code",
   "execution_count": null,
   "metadata": {},
   "outputs": [],
   "source": [
    "week = df[df[\"minimum_nights\"] < 7] \n",
    "week.shape"
   ]
  },
  {
   "cell_type": "code",
   "execution_count": null,
   "metadata": {},
   "outputs": [],
   "source": [
    "df.groupby(['neighbourhood','minimum_nights']).size().unstack().plot(kind='bar',stacked=True)\n",
    "plt.show()"
   ]
  },
  {
   "cell_type": "code",
   "execution_count": null,
   "metadata": {},
   "outputs": [],
   "source": [
    "month = df[df[\"minimum_nights\"] <= 30] \n",
    "month.shape"
   ]
  },
  {
   "cell_type": "code",
   "execution_count": null,
   "metadata": {},
   "outputs": [],
   "source": [
    "\n",
    "s_grouped = df.groupby(['neighbourhood_group', 'room_type'])['price']\n",
    "s_grouped.mean()"
   ]
  },
  {
   "cell_type": "code",
   "execution_count": null,
   "metadata": {},
   "outputs": [],
   "source": [
    "\n",
    "ng_grouped = df.groupby(['neighbourhood_group', 'neighbourhood','room_type'])['price']\n",
    "ng = ng_grouped.median()\n",
    "ng"
   ]
  },
  {
   "cell_type": "code",
   "execution_count": null,
   "metadata": {},
   "outputs": [],
   "source": [
    "df[[\"price\"]].describe()"
   ]
  },
  {
   "cell_type": "markdown",
   "metadata": {},
   "source": [
    "### Insights - Insights\n",
    "- Mean > Median\n",
    "- Till 75%, maximum price is 175. But, for Q4, it reaches 10000.So, price is between 175 to 10000. So, check outliers.\n",
    "- Q3 - Q1 = 106"
   ]
  },
  {
   "cell_type": "code",
   "execution_count": null,
   "metadata": {},
   "outputs": [],
   "source": [
    "df_75 = df[df[\"price\"] > 4999]\n",
    "df_75[\"neighbourhood_group\"].value_counts()"
   ]
  },
  {
   "cell_type": "code",
   "execution_count": null,
   "metadata": {},
   "outputs": [],
   "source": [
    "df_1 = df[df[\"price\"] < 100]\n",
    "df_1[\"neighbourhood_group\"].value_counts()"
   ]
  },
  {
   "cell_type": "code",
   "execution_count": null,
   "metadata": {},
   "outputs": [],
   "source": [
    "df_1.groupby(['neighbourhood_group','room_type']).size().unstack().plot(kind='bar',stacked=True)\n",
    "plt.show()"
   ]
  },
  {
   "cell_type": "code",
   "execution_count": null,
   "metadata": {},
   "outputs": [],
   "source": [
    "bronx = df.pivot_table(index=['neighbourhood_group', 'neighbourhood']).iloc[:48]"
   ]
  },
  {
   "cell_type": "code",
   "execution_count": null,
   "metadata": {},
   "outputs": [],
   "source": [
    "brooklyn = df.pivot_table(index=['neighbourhood_group','neighbourhood']).iloc[49:95]"
   ]
  },
  {
   "cell_type": "code",
   "execution_count": null,
   "metadata": {},
   "outputs": [],
   "source": [
    "manhattan = df.pivot_table(index=['neighbourhood_group', 'neighbourhood']).iloc[96:127]"
   ]
  },
  {
   "cell_type": "code",
   "execution_count": null,
   "metadata": {},
   "outputs": [],
   "source": [
    "queens = df.pivot_table(index=['neighbourhood_group', 'neighbourhood']).iloc[127:178]"
   ]
  },
  {
   "cell_type": "code",
   "execution_count": null,
   "metadata": {},
   "outputs": [],
   "source": [
    "island = df.pivot_table(index=['neighbourhood_group', 'neighbourhood']).iloc[178:]"
   ]
  },
  {
   "cell_type": "code",
   "execution_count": null,
   "metadata": {},
   "outputs": [],
   "source": [
    "df.groupby([\"neighbourhood_group\"]).mean()"
   ]
  },
  {
   "cell_type": "code",
   "execution_count": null,
   "metadata": {},
   "outputs": [],
   "source": [
    "data = df[\"price\"]\n",
    "\n",
    "plt.plot(data)"
   ]
  },
  {
   "cell_type": "code",
   "execution_count": null,
   "metadata": {},
   "outputs": [],
   "source": [
    "\n",
    "data_1 = df[df[\"price\"] < 1500]\n",
    "\n",
    "d_1 = data_1[\"price\"]\n",
    "\n",
    "plt.plot(d_1)"
   ]
  },
  {
   "cell_type": "code",
   "execution_count": null,
   "metadata": {},
   "outputs": [],
   "source": [
    "data_2 = df[df[\"price\"] > 1500]\n",
    "\n",
    "d_2 = data_2[\"price\"]\n",
    "plt.plot(d_2)"
   ]
  },
  {
   "cell_type": "code",
   "execution_count": null,
   "metadata": {},
   "outputs": [],
   "source": [
    "df.groupby('neighbourhood')['price'].nunique().plot(kind='bar', figsize = (20,8))\n",
    "plt.show()"
   ]
  },
  {
   "cell_type": "code",
   "execution_count": null,
   "metadata": {},
   "outputs": [],
   "source": []
  },
  {
   "cell_type": "code",
   "execution_count": null,
   "metadata": {},
   "outputs": [],
   "source": []
  },
  {
   "cell_type": "code",
   "execution_count": null,
   "metadata": {},
   "outputs": [],
   "source": [
    "\n",
    "import matplotlib.pyplot as plt\n",
    "import seaborn as sns\n",
    "sns.set_style(\"white\")\n",
    "\n",
    "f, axarr = plt.subplots(3, 2, figsize=(14, 12))\n",
    "plt.suptitle('StayZe Property Breakdown', fontsize=18)\n",
    "f.subplots_adjust(hspace=0.5)\n",
    "\n",
    "sns.kdeplot(df.price, ax=axarr[0][0])\n",
    "axarr[0][0].set_title(\"Room Price\")\n",
    "\n",
    "sns.kdeplot(df.price.where(lambda v: v <= 500), ax=axarr[0][1])\n",
    "axarr[0][1].set_title(\"Room Price < 500 Rupees (Detail)\")\n",
    "\n",
    "sns.countplot(df.neighbourhood_group, ax=axarr[1][0])\n",
    "axarr[1][0].set_title(\"neighbourhood group\")\n",
    "\n",
    "sns.countplot(df.room_type, ax=axarr[1][1])\n",
    "axarr[1][1].set_title(\"Occupants Permitted\")\n",
    "\n",
    "sns.kdeplot(df.price.where(lambda v : v <200), ax=axarr[2][0])\n",
    "axarr[2][0].set_title(\"Room Price < 200\")\n",
    "\n",
    "sns.kdeplot(df.price.where(lambda v: v <= 300 ), ax=axarr[2][1])\n",
    "axarr[2][1].set_title(\"Room Price < 500 Rupees (Detail)\")\n",
    "\n",
    "\n",
    "sns.despine()"
   ]
  },
  {
   "cell_type": "code",
   "execution_count": null,
   "metadata": {},
   "outputs": [],
   "source": []
  },
  {
   "cell_type": "markdown",
   "metadata": {},
   "source": [
    "## Code to calculate the distance between two points on Earth using lattitues and longitudes"
   ]
  },
  {
   "cell_type": "code",
   "execution_count": null,
   "metadata": {},
   "outputs": [],
   "source": [
    "from math import sin, cos, sqrt, atan2, radians\n",
    "\n",
    "# approximate radius of earth in km\n",
    "R = 6373.0\n",
    "\n",
    "lat1 = radians(40.70844)\n",
    "lon1 = radians(-74.00615)\n",
    "lat2 = radians(40.70724)\n",
    "lon2 = radians(-74.00614)\n",
    "\n",
    "dlon = lon2 - lon1\n",
    "dlat = lat2 - lat1\n",
    "\n",
    "a = sin(dlat / 2)**2 + cos(lat1) * cos(lat2) * sin(dlon / 2)**2\n",
    "c = 2 * atan2(sqrt(a), sqrt(1 - a))\n",
    "\n",
    "distance = R * c\n",
    "\n",
    "print(\"Distance in meters:\", distance*1000)"
   ]
  },
  {
   "cell_type": "markdown",
   "metadata": {},
   "source": [
    "### With the distances from the market, we can get more appropriate picture of Data. So, Sharing an updated file"
   ]
  },
  {
   "cell_type": "markdown",
   "metadata": {},
   "source": [
    "### Downlaoding the updated Data"
   ]
  },
  {
   "cell_type": "code",
   "execution_count": null,
   "metadata": {},
   "outputs": [],
   "source": [
    "path_ss = \"https://raw.githubusercontent.com/Vyaghri-Sista/RentalProperty-prediction/main/Mod_Data.csv\"\n",
    "df1 = pd.read_csv(path_ss,encoding=\"ISO-8859-1\")\n"
   ]
  },
  {
   "cell_type": "markdown",
   "metadata": {},
   "source": [
    "### Taking a Quick Look at the data"
   ]
  },
  {
   "cell_type": "code",
   "execution_count": null,
   "metadata": {},
   "outputs": [],
   "source": [
    "df1.head()"
   ]
  },
  {
   "cell_type": "code",
   "execution_count": null,
   "metadata": {},
   "outputs": [],
   "source": [
    "df1.info()"
   ]
  },
  {
   "cell_type": "markdown",
   "metadata": {},
   "source": [
    "### Non Zero values wrt total rows in \"price\" column"
   ]
  },
  {
   "cell_type": "code",
   "execution_count": null,
   "metadata": {},
   "outputs": [],
   "source": [
    "print(\"Non Zero Values : \" , np.count_nonzero(df1['price'], axis=0))\n",
    "print(\"Total rows in price Column : \" , df1['price'].shape)"
   ]
  },
  {
   "cell_type": "markdown",
   "metadata": {},
   "source": [
    "### Checking null Values "
   ]
  },
  {
   "cell_type": "code",
   "execution_count": 246,
   "metadata": {},
   "outputs": [
    {
     "data": {
      "text/plain": [
       "Unnamed: 0                           0\n",
       "id                                   0\n",
       "name                                12\n",
       "host_id                              0\n",
       "host_name                           13\n",
       "neighbourhood_group                  0\n",
       "neighbourhood                        0\n",
       "latitude                             0\n",
       "longitude                            0\n",
       "room_type                            0\n",
       "price                                0\n",
       "minimum_nights                       0\n",
       "number_of_reviews                    0\n",
       "last_review                       6982\n",
       "reviews_per_month                 6982\n",
       "calculated_host_listings_count       0\n",
       "availability_365                     0\n",
       "Distance in m                        0\n",
       "dtype: int64"
      ]
     },
     "execution_count": 246,
     "metadata": {},
     "output_type": "execute_result"
    }
   ],
   "source": [
    "df1.isnull().sum()"
   ]
  },
  {
   "cell_type": "code",
   "execution_count": null,
   "metadata": {},
   "outputs": [],
   "source": []
  },
  {
   "cell_type": "markdown",
   "metadata": {},
   "source": [
    "## Now, we are analyzing the dataset developed in two ways "
   ]
  },
  {
   "cell_type": "markdown",
   "metadata": {},
   "source": [
    "### Sunny Sir"
   ]
  },
  {
   "cell_type": "code",
   "execution_count": 275,
   "metadata": {},
   "outputs": [],
   "source": [
    "X_enc_rt = pd.get_dummies(df1.room_type, prefix='roomtype')\n",
    "X_enc_nh = pd.get_dummies(df1.neighbourhood_group, prefix='nbg')\n",
    "X_enc_ng = pd.get_dummies(df1.neighbourhood, prefix='nb')"
   ]
  },
  {
   "cell_type": "code",
   "execution_count": 276,
   "metadata": {},
   "outputs": [],
   "source": [
    "Var = pd.concat([df1, X_enc_rt,X_enc_nh,X_enc_ng], axis=1)"
   ]
  },
  {
   "cell_type": "code",
   "execution_count": 277,
   "metadata": {},
   "outputs": [
    {
     "name": "stderr",
     "output_type": "stream",
     "text": [
      "C:\\ProgramData\\Anaconda3\\lib\\site-packages\\ipykernel_launcher.py:4: SettingWithCopyWarning: \n",
      "A value is trying to be set on a copy of a slice from a DataFrame.\n",
      "Try using .loc[row_indexer,col_indexer] = value instead\n",
      "\n",
      "See the caveats in the documentation: https://pandas.pydata.org/pandas-docs/stable/user_guide/indexing.html#returning-a-view-versus-a-copy\n",
      "  after removing the cwd from sys.path.\n"
     ]
    },
    {
     "data": {
      "text/html": [
       "<div>\n",
       "<style scoped>\n",
       "    .dataframe tbody tr th:only-of-type {\n",
       "        vertical-align: middle;\n",
       "    }\n",
       "\n",
       "    .dataframe tbody tr th {\n",
       "        vertical-align: top;\n",
       "    }\n",
       "\n",
       "    .dataframe thead th {\n",
       "        text-align: right;\n",
       "    }\n",
       "</style>\n",
       "<table border=\"1\" class=\"dataframe\">\n",
       "  <thead>\n",
       "    <tr style=\"text-align: right;\">\n",
       "      <th></th>\n",
       "      <th>Unnamed: 0</th>\n",
       "      <th>id</th>\n",
       "      <th>name</th>\n",
       "      <th>host_id</th>\n",
       "      <th>host_name</th>\n",
       "      <th>neighbourhood_group</th>\n",
       "      <th>neighbourhood</th>\n",
       "      <th>latitude</th>\n",
       "      <th>longitude</th>\n",
       "      <th>room_type</th>\n",
       "      <th>...</th>\n",
       "      <th>nb_Westchester Square</th>\n",
       "      <th>nb_Westerleigh</th>\n",
       "      <th>nb_Whitestone</th>\n",
       "      <th>nb_Williamsbridge</th>\n",
       "      <th>nb_Williamsburg</th>\n",
       "      <th>nb_Windsor Terrace</th>\n",
       "      <th>nb_Woodhaven</th>\n",
       "      <th>nb_Woodlawn</th>\n",
       "      <th>nb_Woodside</th>\n",
       "      <th>price new</th>\n",
       "    </tr>\n",
       "  </thead>\n",
       "  <tbody>\n",
       "    <tr>\n",
       "      <th>0</th>\n",
       "      <td>0</td>\n",
       "      <td>5728806</td>\n",
       "      <td>Large private room in Nolita</td>\n",
       "      <td>4271676</td>\n",
       "      <td>Nat</td>\n",
       "      <td>Manhattan</td>\n",
       "      <td>Nolita</td>\n",
       "      <td>40.72217</td>\n",
       "      <td>-73.99481</td>\n",
       "      <td>Private room</td>\n",
       "      <td>...</td>\n",
       "      <td>0</td>\n",
       "      <td>0</td>\n",
       "      <td>0</td>\n",
       "      <td>0</td>\n",
       "      <td>0</td>\n",
       "      <td>0</td>\n",
       "      <td>0</td>\n",
       "      <td>0</td>\n",
       "      <td>0</td>\n",
       "      <td>4.787492</td>\n",
       "    </tr>\n",
       "    <tr>\n",
       "      <th>1</th>\n",
       "      <td>1</td>\n",
       "      <td>2243769</td>\n",
       "      <td>Super Bowl New York City Apartment</td>\n",
       "      <td>11460768</td>\n",
       "      <td>Brian</td>\n",
       "      <td>Manhattan</td>\n",
       "      <td>Upper West Side</td>\n",
       "      <td>40.80020</td>\n",
       "      <td>-73.96045</td>\n",
       "      <td>Entire home/apt</td>\n",
       "      <td>...</td>\n",
       "      <td>0</td>\n",
       "      <td>0</td>\n",
       "      <td>0</td>\n",
       "      <td>0</td>\n",
       "      <td>0</td>\n",
       "      <td>0</td>\n",
       "      <td>0</td>\n",
       "      <td>0</td>\n",
       "      <td>0</td>\n",
       "      <td>7.313220</td>\n",
       "    </tr>\n",
       "    <tr>\n",
       "      <th>2</th>\n",
       "      <td>2</td>\n",
       "      <td>35515415</td>\n",
       "      <td>COZY APT CLOSE TO LGA &amp; JFK AND TRANSPORTATION</td>\n",
       "      <td>267193767</td>\n",
       "      <td>Jenny</td>\n",
       "      <td>Queens</td>\n",
       "      <td>East Elmhurst</td>\n",
       "      <td>40.75558</td>\n",
       "      <td>-73.89316</td>\n",
       "      <td>Entire home/apt</td>\n",
       "      <td>...</td>\n",
       "      <td>0</td>\n",
       "      <td>0</td>\n",
       "      <td>0</td>\n",
       "      <td>0</td>\n",
       "      <td>0</td>\n",
       "      <td>0</td>\n",
       "      <td>0</td>\n",
       "      <td>0</td>\n",
       "      <td>0</td>\n",
       "      <td>5.298317</td>\n",
       "    </tr>\n",
       "    <tr>\n",
       "      <th>3</th>\n",
       "      <td>3</td>\n",
       "      <td>36202006</td>\n",
       "      <td>Stream-Pressed Paradise (Laundry Room Setup)</td>\n",
       "      <td>43392243</td>\n",
       "      <td>Rita</td>\n",
       "      <td>Staten Island</td>\n",
       "      <td>Concord</td>\n",
       "      <td>40.60110</td>\n",
       "      <td>-74.07830</td>\n",
       "      <td>Shared room</td>\n",
       "      <td>...</td>\n",
       "      <td>0</td>\n",
       "      <td>0</td>\n",
       "      <td>0</td>\n",
       "      <td>0</td>\n",
       "      <td>0</td>\n",
       "      <td>0</td>\n",
       "      <td>0</td>\n",
       "      <td>0</td>\n",
       "      <td>0</td>\n",
       "      <td>3.401197</td>\n",
       "    </tr>\n",
       "    <tr>\n",
       "      <th>4</th>\n",
       "      <td>4</td>\n",
       "      <td>3780951</td>\n",
       "      <td>Charming Harlem apartment</td>\n",
       "      <td>16065171</td>\n",
       "      <td>Gina</td>\n",
       "      <td>Manhattan</td>\n",
       "      <td>Harlem</td>\n",
       "      <td>40.81022</td>\n",
       "      <td>-73.94266</td>\n",
       "      <td>Shared room</td>\n",
       "      <td>...</td>\n",
       "      <td>0</td>\n",
       "      <td>0</td>\n",
       "      <td>0</td>\n",
       "      <td>0</td>\n",
       "      <td>0</td>\n",
       "      <td>0</td>\n",
       "      <td>0</td>\n",
       "      <td>0</td>\n",
       "      <td>0</td>\n",
       "      <td>4.744932</td>\n",
       "    </tr>\n",
       "  </tbody>\n",
       "</table>\n",
       "<p>5 rows × 244 columns</p>\n",
       "</div>"
      ],
      "text/plain": [
       "   Unnamed: 0        id                                            name  \\\n",
       "0           0   5728806                    Large private room in Nolita   \n",
       "1           1   2243769              Super Bowl New York City Apartment   \n",
       "2           2  35515415  COZY APT CLOSE TO LGA & JFK AND TRANSPORTATION   \n",
       "3           3  36202006    Stream-Pressed Paradise (Laundry Room Setup)   \n",
       "4           4   3780951                       Charming Harlem apartment   \n",
       "\n",
       "     host_id host_name neighbourhood_group    neighbourhood  latitude  \\\n",
       "0    4271676       Nat           Manhattan           Nolita  40.72217   \n",
       "1   11460768     Brian           Manhattan  Upper West Side  40.80020   \n",
       "2  267193767     Jenny              Queens    East Elmhurst  40.75558   \n",
       "3   43392243      Rita       Staten Island          Concord  40.60110   \n",
       "4   16065171      Gina           Manhattan           Harlem  40.81022   \n",
       "\n",
       "   longitude        room_type  ...  nb_Westchester Square  nb_Westerleigh  \\\n",
       "0  -73.99481     Private room  ...                      0               0   \n",
       "1  -73.96045  Entire home/apt  ...                      0               0   \n",
       "2  -73.89316  Entire home/apt  ...                      0               0   \n",
       "3  -74.07830      Shared room  ...                      0               0   \n",
       "4  -73.94266      Shared room  ...                      0               0   \n",
       "\n",
       "   nb_Whitestone nb_Williamsbridge  nb_Williamsburg  nb_Windsor Terrace  \\\n",
       "0              0                 0                0                   0   \n",
       "1              0                 0                0                   0   \n",
       "2              0                 0                0                   0   \n",
       "3              0                 0                0                   0   \n",
       "4              0                 0                0                   0   \n",
       "\n",
       "   nb_Woodhaven  nb_Woodlawn  nb_Woodside  price new  \n",
       "0             0            0            0   4.787492  \n",
       "1             0            0            0   7.313220  \n",
       "2             0            0            0   5.298317  \n",
       "3             0            0            0   3.401197  \n",
       "4             0            0            0   4.744932  \n",
       "\n",
       "[5 rows x 244 columns]"
      ]
     },
     "execution_count": 277,
     "metadata": {},
     "output_type": "execute_result"
    }
   ],
   "source": [
    "D1=Var[(Var['price'] > 0)]\n",
    "#D2=D1.iloc[:,7:26]\n",
    "n1=np.log(D1['price'])\n",
    "D1['price new']=n1\n",
    "D1.head()"
   ]
  },
  {
   "cell_type": "code",
   "execution_count": 278,
   "metadata": {},
   "outputs": [
    {
     "data": {
      "text/plain": [
       "Index(['Unnamed: 0', 'id', 'name', 'host_id', 'host_name',\n",
       "       'neighbourhood_group', 'neighbourhood', 'latitude', 'longitude',\n",
       "       'room_type',\n",
       "       ...\n",
       "       'nb_Westchester Square', 'nb_Westerleigh', 'nb_Whitestone',\n",
       "       'nb_Williamsbridge', 'nb_Williamsburg', 'nb_Windsor Terrace',\n",
       "       'nb_Woodhaven', 'nb_Woodlawn', 'nb_Woodside', 'price new'],\n",
       "      dtype='object', length=244)"
      ]
     },
     "execution_count": 278,
     "metadata": {},
     "output_type": "execute_result"
    }
   ],
   "source": [
    "D1.columns"
   ]
  },
  {
   "cell_type": "code",
   "execution_count": 279,
   "metadata": {},
   "outputs": [
    {
     "name": "stderr",
     "output_type": "stream",
     "text": [
      "C:\\ProgramData\\Anaconda3\\lib\\site-packages\\pandas\\core\\frame.py:4169: SettingWithCopyWarning: \n",
      "A value is trying to be set on a copy of a slice from a DataFrame\n",
      "\n",
      "See the caveats in the documentation: https://pandas.pydata.org/pandas-docs/stable/user_guide/indexing.html#returning-a-view-versus-a-copy\n",
      "  errors=errors,\n"
     ]
    }
   ],
   "source": [
    "D1.drop([\"Unnamed: 0\",\"id\",\"host_name\",\"last_review\",\"reviews_per_month\",\"neighbourhood\",\"neighbourhood_group\",\"room_type\"], axis = 1,inplace = True)"
   ]
  },
  {
   "cell_type": "code",
   "execution_count": 280,
   "metadata": {},
   "outputs": [
    {
     "data": {
      "image/png": "[encoded data removed]",
      "text/plain": [
       "<Figure size 1080x576 with 1 Axes>"
      ]
     },
     "metadata": {},
     "output_type": "display_data"
    }
   ],
   "source": [
    "figure =plt.figure(figsize=(15,8))\n",
    "sns.distplot(D1['price new'],bins=20)\n",
    "plt.title('Distribution of Properties as a function of distance from City Center', fontsize=30)\n",
    "plt.xlabel('Distance in (m)',fontsize=25)\n",
    "plt.ylabel('Distribution',fontsize=25)\n",
    "plt.xticks(fontsize=20)\n",
    "plt.yticks(fontsize=20)\n",
    "plt.show()"
   ]
  },
  {
   "cell_type": "code",
   "execution_count": 281,
   "metadata": {},
   "outputs": [
    {
     "data": {
      "text/plain": [
       "Index(['name', 'host_id', 'latitude', 'longitude', 'price', 'minimum_nights',\n",
       "       'number_of_reviews', 'calculated_host_listings_count',\n",
       "       'availability_365', 'Distance in m',\n",
       "       ...\n",
       "       'nb_Westchester Square', 'nb_Westerleigh', 'nb_Whitestone',\n",
       "       'nb_Williamsbridge', 'nb_Williamsburg', 'nb_Windsor Terrace',\n",
       "       'nb_Woodhaven', 'nb_Woodlawn', 'nb_Woodside', 'price new'],\n",
       "      dtype='object', length=236)"
      ]
     },
     "execution_count": 281,
     "metadata": {},
     "output_type": "execute_result"
    }
   ],
   "source": [
    "D2=D1[(D1['price new'] >=3 )&(D1['price new'] <= 6.5)]\n",
    "#D2=D1\n",
    "D2.columns"
   ]
  },
  {
   "cell_type": "code",
   "execution_count": 284,
   "metadata": {},
   "outputs": [
    {
     "name": "stdout",
     "output_type": "stream",
     "text": [
      "<class 'pandas.core.frame.DataFrame'>\n",
      "Int64Index: 33664 entries, 0 to 34225\n",
      "Data columns (total 1 columns):\n",
      " #   Column   Non-Null Count  Dtype\n",
      "---  ------   --------------  -----\n",
      " 0   host_id  33664 non-null  int64\n",
      "dtypes: int64(1)\n",
      "memory usage: 526.0 KB\n"
     ]
    }
   ],
   "source": [
    "D2[[\"host_id\"]].info()"
   ]
  },
  {
   "cell_type": "code",
   "execution_count": 285,
   "metadata": {},
   "outputs": [
    {
     "data": {
      "text/html": [
       "<div>\n",
       "<style scoped>\n",
       "    .dataframe tbody tr th:only-of-type {\n",
       "        vertical-align: middle;\n",
       "    }\n",
       "\n",
       "    .dataframe tbody tr th {\n",
       "        vertical-align: top;\n",
       "    }\n",
       "\n",
       "    .dataframe thead th {\n",
       "        text-align: right;\n",
       "    }\n",
       "</style>\n",
       "<table border=\"1\" class=\"dataframe\">\n",
       "  <thead>\n",
       "    <tr style=\"text-align: right;\">\n",
       "      <th></th>\n",
       "      <th>host_id</th>\n",
       "      <th>latitude</th>\n",
       "      <th>longitude</th>\n",
       "      <th>price</th>\n",
       "      <th>minimum_nights</th>\n",
       "      <th>number_of_reviews</th>\n",
       "      <th>calculated_host_listings_count</th>\n",
       "      <th>availability_365</th>\n",
       "      <th>Distance in m</th>\n",
       "      <th>roomtype_Entire home/apt</th>\n",
       "      <th>...</th>\n",
       "      <th>nb_Westchester Square</th>\n",
       "      <th>nb_Westerleigh</th>\n",
       "      <th>nb_Whitestone</th>\n",
       "      <th>nb_Williamsbridge</th>\n",
       "      <th>nb_Williamsburg</th>\n",
       "      <th>nb_Windsor Terrace</th>\n",
       "      <th>nb_Woodhaven</th>\n",
       "      <th>nb_Woodlawn</th>\n",
       "      <th>nb_Woodside</th>\n",
       "      <th>price new</th>\n",
       "    </tr>\n",
       "  </thead>\n",
       "  <tbody>\n",
       "    <tr>\n",
       "      <th>host_id</th>\n",
       "      <td>1.000000</td>\n",
       "      <td>0.021219</td>\n",
       "      <td>0.132149</td>\n",
       "      <td>0.018251</td>\n",
       "      <td>-0.015257</td>\n",
       "      <td>-0.141965</td>\n",
       "      <td>0.152088</td>\n",
       "      <td>0.198127</td>\n",
       "      <td>0.065759</td>\n",
       "      <td>-0.079122</td>\n",
       "      <td>...</td>\n",
       "      <td>0.011058</td>\n",
       "      <td>0.008010</td>\n",
       "      <td>0.002034</td>\n",
       "      <td>0.015522</td>\n",
       "      <td>-0.086768</td>\n",
       "      <td>-0.021172</td>\n",
       "      <td>0.021946</td>\n",
       "      <td>0.003726</td>\n",
       "      <td>0.035733</td>\n",
       "      <td>-0.028003</td>\n",
       "    </tr>\n",
       "    <tr>\n",
       "      <th>latitude</th>\n",
       "      <td>0.021219</td>\n",
       "      <td>1.000000</td>\n",
       "      <td>0.085828</td>\n",
       "      <td>0.064280</td>\n",
       "      <td>0.024882</td>\n",
       "      <td>-0.013446</td>\n",
       "      <td>0.018066</td>\n",
       "      <td>-0.013723</td>\n",
       "      <td>-0.725806</td>\n",
       "      <td>-0.008199</td>\n",
       "      <td>...</td>\n",
       "      <td>0.029069</td>\n",
       "      <td>-0.016213</td>\n",
       "      <td>0.017551</td>\n",
       "      <td>0.087086</td>\n",
       "      <td>-0.088944</td>\n",
       "      <td>-0.074924</td>\n",
       "      <td>-0.029379</td>\n",
       "      <td>0.047956</td>\n",
       "      <td>0.021757</td>\n",
       "      <td>0.077192</td>\n",
       "    </tr>\n",
       "    <tr>\n",
       "      <th>longitude</th>\n",
       "      <td>0.132149</td>\n",
       "      <td>0.085828</td>\n",
       "      <td>1.000000</td>\n",
       "      <td>-0.283994</td>\n",
       "      <td>-0.064743</td>\n",
       "      <td>0.053609</td>\n",
       "      <td>-0.115052</td>\n",
       "      <td>0.090508</td>\n",
       "      <td>0.332691</td>\n",
       "      <td>-0.187345</td>\n",
       "      <td>...</td>\n",
       "      <td>0.032729</td>\n",
       "      <td>-0.030381</td>\n",
       "      <td>0.049774</td>\n",
       "      <td>0.064112</td>\n",
       "      <td>-0.000608</td>\n",
       "      <td>-0.031244</td>\n",
       "      <td>0.086847</td>\n",
       "      <td>0.028376</td>\n",
       "      <td>0.075266</td>\n",
       "      <td>-0.333587</td>\n",
       "    </tr>\n",
       "    <tr>\n",
       "      <th>price</th>\n",
       "      <td>0.018251</td>\n",
       "      <td>0.064280</td>\n",
       "      <td>-0.283994</td>\n",
       "      <td>1.000000</td>\n",
       "      <td>0.024598</td>\n",
       "      <td>-0.049441</td>\n",
       "      <td>0.143370</td>\n",
       "      <td>0.096558</td>\n",
       "      <td>-0.247545</td>\n",
       "      <td>0.537172</td>\n",
       "      <td>...</td>\n",
       "      <td>-0.010669</td>\n",
       "      <td>-0.005112</td>\n",
       "      <td>-0.003668</td>\n",
       "      <td>-0.011078</td>\n",
       "      <td>0.011989</td>\n",
       "      <td>0.002087</td>\n",
       "      <td>-0.031011</td>\n",
       "      <td>-0.012210</td>\n",
       "      <td>-0.034069</td>\n",
       "      <td>0.923283</td>\n",
       "    </tr>\n",
       "    <tr>\n",
       "      <th>minimum_nights</th>\n",
       "      <td>-0.015257</td>\n",
       "      <td>0.024882</td>\n",
       "      <td>-0.064743</td>\n",
       "      <td>0.024598</td>\n",
       "      <td>1.000000</td>\n",
       "      <td>-0.078701</td>\n",
       "      <td>0.129179</td>\n",
       "      <td>0.142793</td>\n",
       "      <td>-0.063811</td>\n",
       "      <td>0.079257</td>\n",
       "      <td>...</td>\n",
       "      <td>-0.003312</td>\n",
       "      <td>-0.001688</td>\n",
       "      <td>-0.004205</td>\n",
       "      <td>-0.000612</td>\n",
       "      <td>-0.004859</td>\n",
       "      <td>0.010759</td>\n",
       "      <td>-0.009156</td>\n",
       "      <td>-0.004146</td>\n",
       "      <td>0.010508</td>\n",
       "      <td>0.024630</td>\n",
       "    </tr>\n",
       "    <tr>\n",
       "      <th>...</th>\n",
       "      <td>...</td>\n",
       "      <td>...</td>\n",
       "      <td>...</td>\n",
       "      <td>...</td>\n",
       "      <td>...</td>\n",
       "      <td>...</td>\n",
       "      <td>...</td>\n",
       "      <td>...</td>\n",
       "      <td>...</td>\n",
       "      <td>...</td>\n",
       "      <td>...</td>\n",
       "      <td>...</td>\n",
       "      <td>...</td>\n",
       "      <td>...</td>\n",
       "      <td>...</td>\n",
       "      <td>...</td>\n",
       "      <td>...</td>\n",
       "      <td>...</td>\n",
       "      <td>...</td>\n",
       "      <td>...</td>\n",
       "      <td>...</td>\n",
       "    </tr>\n",
       "    <tr>\n",
       "      <th>nb_Windsor Terrace</th>\n",
       "      <td>-0.021172</td>\n",
       "      <td>-0.074924</td>\n",
       "      <td>-0.031244</td>\n",
       "      <td>0.002087</td>\n",
       "      <td>0.010759</td>\n",
       "      <td>0.007718</td>\n",
       "      <td>-0.009299</td>\n",
       "      <td>-0.009728</td>\n",
       "      <td>0.069933</td>\n",
       "      <td>0.026266</td>\n",
       "      <td>...</td>\n",
       "      <td>-0.000795</td>\n",
       "      <td>-0.000425</td>\n",
       "      <td>-0.000950</td>\n",
       "      <td>-0.001753</td>\n",
       "      <td>-0.016397</td>\n",
       "      <td>1.000000</td>\n",
       "      <td>-0.002387</td>\n",
       "      <td>-0.000850</td>\n",
       "      <td>-0.003904</td>\n",
       "      <td>0.007545</td>\n",
       "    </tr>\n",
       "    <tr>\n",
       "      <th>nb_Woodhaven</th>\n",
       "      <td>0.021946</td>\n",
       "      <td>-0.029379</td>\n",
       "      <td>0.086847</td>\n",
       "      <td>-0.031011</td>\n",
       "      <td>-0.009156</td>\n",
       "      <td>0.012087</td>\n",
       "      <td>-0.003977</td>\n",
       "      <td>0.032495</td>\n",
       "      <td>0.050993</td>\n",
       "      <td>-0.026902</td>\n",
       "      <td>...</td>\n",
       "      <td>-0.000624</td>\n",
       "      <td>-0.000334</td>\n",
       "      <td>-0.000746</td>\n",
       "      <td>-0.001377</td>\n",
       "      <td>-0.012879</td>\n",
       "      <td>-0.002387</td>\n",
       "      <td>1.000000</td>\n",
       "      <td>-0.000668</td>\n",
       "      <td>-0.003067</td>\n",
       "      <td>-0.041593</td>\n",
       "    </tr>\n",
       "    <tr>\n",
       "      <th>nb_Woodlawn</th>\n",
       "      <td>0.003726</td>\n",
       "      <td>0.047956</td>\n",
       "      <td>0.028376</td>\n",
       "      <td>-0.012210</td>\n",
       "      <td>-0.004146</td>\n",
       "      <td>0.012100</td>\n",
       "      <td>-0.002438</td>\n",
       "      <td>0.001418</td>\n",
       "      <td>0.023829</td>\n",
       "      <td>-0.000519</td>\n",
       "      <td>...</td>\n",
       "      <td>-0.000222</td>\n",
       "      <td>-0.000119</td>\n",
       "      <td>-0.000266</td>\n",
       "      <td>-0.000490</td>\n",
       "      <td>-0.004586</td>\n",
       "      <td>-0.000850</td>\n",
       "      <td>-0.000668</td>\n",
       "      <td>1.000000</td>\n",
       "      <td>-0.001092</td>\n",
       "      <td>-0.016827</td>\n",
       "    </tr>\n",
       "    <tr>\n",
       "      <th>nb_Woodside</th>\n",
       "      <td>0.035733</td>\n",
       "      <td>0.021757</td>\n",
       "      <td>0.075266</td>\n",
       "      <td>-0.034069</td>\n",
       "      <td>0.010508</td>\n",
       "      <td>-0.008963</td>\n",
       "      <td>0.027492</td>\n",
       "      <td>0.010236</td>\n",
       "      <td>-0.017231</td>\n",
       "      <td>-0.034439</td>\n",
       "      <td>...</td>\n",
       "      <td>-0.001021</td>\n",
       "      <td>-0.000546</td>\n",
       "      <td>-0.001221</td>\n",
       "      <td>-0.002252</td>\n",
       "      <td>-0.021064</td>\n",
       "      <td>-0.003904</td>\n",
       "      <td>-0.003067</td>\n",
       "      <td>-0.001092</td>\n",
       "      <td>1.000000</td>\n",
       "      <td>-0.046932</td>\n",
       "    </tr>\n",
       "    <tr>\n",
       "      <th>price new</th>\n",
       "      <td>-0.028003</td>\n",
       "      <td>0.077192</td>\n",
       "      <td>-0.333587</td>\n",
       "      <td>0.923283</td>\n",
       "      <td>0.024630</td>\n",
       "      <td>-0.027995</td>\n",
       "      <td>0.139969</td>\n",
       "      <td>0.073021</td>\n",
       "      <td>-0.297197</td>\n",
       "      <td>0.650507</td>\n",
       "      <td>...</td>\n",
       "      <td>-0.012369</td>\n",
       "      <td>-0.006477</td>\n",
       "      <td>-0.008923</td>\n",
       "      <td>-0.018454</td>\n",
       "      <td>0.026113</td>\n",
       "      <td>0.007545</td>\n",
       "      <td>-0.041593</td>\n",
       "      <td>-0.016827</td>\n",
       "      <td>-0.046932</td>\n",
       "      <td>1.000000</td>\n",
       "    </tr>\n",
       "  </tbody>\n",
       "</table>\n",
       "<p>235 rows × 235 columns</p>\n",
       "</div>"
      ],
      "text/plain": [
       "                     host_id  latitude  longitude     price  minimum_nights  \\\n",
       "host_id             1.000000  0.021219   0.132149  0.018251       -0.015257   \n",
       "latitude            0.021219  1.000000   0.085828  0.064280        0.024882   \n",
       "longitude           0.132149  0.085828   1.000000 -0.283994       -0.064743   \n",
       "price               0.018251  0.064280  -0.283994  1.000000        0.024598   \n",
       "minimum_nights     -0.015257  0.024882  -0.064743  0.024598        1.000000   \n",
       "...                      ...       ...        ...       ...             ...   \n",
       "nb_Windsor Terrace -0.021172 -0.074924  -0.031244  0.002087        0.010759   \n",
       "nb_Woodhaven        0.021946 -0.029379   0.086847 -0.031011       -0.009156   \n",
       "nb_Woodlawn         0.003726  0.047956   0.028376 -0.012210       -0.004146   \n",
       "nb_Woodside         0.035733  0.021757   0.075266 -0.034069        0.010508   \n",
       "price new          -0.028003  0.077192  -0.333587  0.923283        0.024630   \n",
       "\n",
       "                    number_of_reviews  calculated_host_listings_count  \\\n",
       "host_id                     -0.141965                        0.152088   \n",
       "latitude                    -0.013446                        0.018066   \n",
       "longitude                    0.053609                       -0.115052   \n",
       "price                       -0.049441                        0.143370   \n",
       "minimum_nights              -0.078701                        0.129179   \n",
       "...                               ...                             ...   \n",
       "nb_Windsor Terrace           0.007718                       -0.009299   \n",
       "nb_Woodhaven                 0.012087                       -0.003977   \n",
       "nb_Woodlawn                  0.012100                       -0.002438   \n",
       "nb_Woodside                 -0.008963                        0.027492   \n",
       "price new                   -0.027995                        0.139969   \n",
       "\n",
       "                    availability_365  Distance in m  roomtype_Entire home/apt  \\\n",
       "host_id                     0.198127       0.065759                 -0.079122   \n",
       "latitude                   -0.013723      -0.725806                 -0.008199   \n",
       "longitude                   0.090508       0.332691                 -0.187345   \n",
       "price                       0.096558      -0.247545                  0.537172   \n",
       "minimum_nights              0.142793      -0.063811                  0.079257   \n",
       "...                              ...            ...                       ...   \n",
       "nb_Windsor Terrace         -0.009728       0.069933                  0.026266   \n",
       "nb_Woodhaven                0.032495       0.050993                 -0.026902   \n",
       "nb_Woodlawn                 0.001418       0.023829                 -0.000519   \n",
       "nb_Woodside                 0.010236      -0.017231                 -0.034439   \n",
       "price new                   0.073021      -0.297197                  0.650507   \n",
       "\n",
       "                    ...  nb_Westchester Square  nb_Westerleigh  nb_Whitestone  \\\n",
       "host_id             ...               0.011058        0.008010       0.002034   \n",
       "latitude            ...               0.029069       -0.016213       0.017551   \n",
       "longitude           ...               0.032729       -0.030381       0.049774   \n",
       "price               ...              -0.010669       -0.005112      -0.003668   \n",
       "minimum_nights      ...              -0.003312       -0.001688      -0.004205   \n",
       "...                 ...                    ...             ...            ...   \n",
       "nb_Windsor Terrace  ...              -0.000795       -0.000425      -0.000950   \n",
       "nb_Woodhaven        ...              -0.000624       -0.000334      -0.000746   \n",
       "nb_Woodlawn         ...              -0.000222       -0.000119      -0.000266   \n",
       "nb_Woodside         ...              -0.001021       -0.000546      -0.001221   \n",
       "price new           ...              -0.012369       -0.006477      -0.008923   \n",
       "\n",
       "                    nb_Williamsbridge  nb_Williamsburg  nb_Windsor Terrace  \\\n",
       "host_id                      0.015522        -0.086768           -0.021172   \n",
       "latitude                     0.087086        -0.088944           -0.074924   \n",
       "longitude                    0.064112        -0.000608           -0.031244   \n",
       "price                       -0.011078         0.011989            0.002087   \n",
       "minimum_nights              -0.000612        -0.004859            0.010759   \n",
       "...                               ...              ...                 ...   \n",
       "nb_Windsor Terrace          -0.001753        -0.016397            1.000000   \n",
       "nb_Woodhaven                -0.001377        -0.012879           -0.002387   \n",
       "nb_Woodlawn                 -0.000490        -0.004586           -0.000850   \n",
       "nb_Woodside                 -0.002252        -0.021064           -0.003904   \n",
       "price new                   -0.018454         0.026113            0.007545   \n",
       "\n",
       "                    nb_Woodhaven  nb_Woodlawn  nb_Woodside  price new  \n",
       "host_id                 0.021946     0.003726     0.035733  -0.028003  \n",
       "latitude               -0.029379     0.047956     0.021757   0.077192  \n",
       "longitude               0.086847     0.028376     0.075266  -0.333587  \n",
       "price                  -0.031011    -0.012210    -0.034069   0.923283  \n",
       "minimum_nights         -0.009156    -0.004146     0.010508   0.024630  \n",
       "...                          ...          ...          ...        ...  \n",
       "nb_Windsor Terrace     -0.002387    -0.000850    -0.003904   0.007545  \n",
       "nb_Woodhaven            1.000000    -0.000668    -0.003067  -0.041593  \n",
       "nb_Woodlawn            -0.000668     1.000000    -0.001092  -0.016827  \n",
       "nb_Woodside            -0.003067    -0.001092     1.000000  -0.046932  \n",
       "price new              -0.041593    -0.016827    -0.046932   1.000000  \n",
       "\n",
       "[235 rows x 235 columns]"
      ]
     },
     "execution_count": 285,
     "metadata": {},
     "output_type": "execute_result"
    }
   ],
   "source": [
    "D2.corr()"
   ]
  },
  {
   "cell_type": "code",
   "execution_count": 288,
   "metadata": {},
   "outputs": [
    {
     "data": {
      "text/plain": [
       "((33664, 229), (33664,))"
      ]
     },
     "execution_count": 288,
     "metadata": {},
     "output_type": "execute_result"
    }
   ],
   "source": [
    "X = D2.drop([\"name\",\"host_id\",\"latitude\",\"longitude\",\"number_of_reviews\",\"price\",\"calculated_host_listings_count\",],axis = 1)\n",
    "y =D2[\"price new\"]\n",
    "X.shape,y.shape"
   ]
  },
  {
   "cell_type": "code",
   "execution_count": 290,
   "metadata": {},
   "outputs": [
    {
     "data": {
      "text/plain": [
       "0.9999999999999998"
      ]
     },
     "execution_count": 290,
     "metadata": {},
     "output_type": "execute_result"
    }
   ],
   "source": [
    "X_train,X_test,y_train,y_test=train_test_split(X,y,test_size=0.3, random_state=10000)\n",
    "sklr = LinearRegression()\n",
    "sklr.fit(X_train,y_train)\n",
    "sklr.score(X_test,y_test)"
   ]
  },
  {
   "cell_type": "code",
   "execution_count": 291,
   "metadata": {},
   "outputs": [
    {
     "data": {
      "text/plain": [
       "(5.272240815479279e-06,\n",
       " array([ 6.10827556e-15, -1.24547725e-16,  7.22349697e-17, -1.64474093e-06,\n",
       "        -1.64474087e-06, -1.64474061e-06, -3.94850465e-06, -4.80408867e-06,\n",
       "        -1.25026481e-07, -3.87168623e-06, -3.44932136e-06,  3.21004299e-07,\n",
       "        -1.78179423e-07, -1.78179364e-07,  2.44185198e-07,  2.44186048e-07,\n",
       "         1.17658792e-06, -3.50247149e-06,  1.17658803e-06,  2.44185751e-07,\n",
       "        -1.09950042e-06,  3.21003963e-07,  2.44185439e-07,  2.44184851e-07,\n",
       "         1.17658799e-06,  2.44185374e-07,  2.44185159e-07,  3.21004301e-07,\n",
       "         1.17658784e-06,  1.17658784e-06,  1.17658845e-06,  1.17658772e-06,\n",
       "         2.44184462e-07,  2.44185515e-07,  1.17658777e-06,  3.21004390e-07,\n",
       "         1.17658843e-06,  1.17658803e-06, -1.78180579e-07,  1.17658867e-06,\n",
       "         2.44184947e-07,  1.17658788e-06,  1.17658847e-06,  3.21004180e-07,\n",
       "        -1.78180299e-07, -3.50247354e-06, -3.50247385e-06,  3.21003807e-07,\n",
       "        -3.50247452e-06,  3.21005230e-07,  3.21004315e-07, -1.78179036e-07,\n",
       "         1.17658850e-06,  3.21004854e-07,  1.17658846e-06,  2.44185777e-07,\n",
       "         1.17658801e-06, -1.78179084e-07,  3.21004629e-07,  3.21003958e-07,\n",
       "         1.17658754e-06,  2.44185359e-07,  1.17658823e-06,  1.17658776e-06,\n",
       "         1.17658849e-06,  2.44186083e-07, -1.78179173e-07,  2.44185555e-07,\n",
       "         1.17658832e-06,  1.17658786e-06,  2.44185566e-07,  1.17658784e-06,\n",
       "        -3.50247417e-06,  3.21004853e-07,  1.17658801e-06, -3.50247366e-06,\n",
       "         3.21003945e-07,  3.21003835e-07,  2.44184801e-07,  2.44185796e-07,\n",
       "        -1.78179704e-07, -1.78179149e-07,  2.44185605e-07,  3.21004013e-07,\n",
       "        -3.50247357e-06,  1.17658811e-06, -3.50247425e-06,  1.17658762e-06,\n",
       "         2.44185756e-07,  3.21004245e-07,  2.44185766e-07,  1.17658863e-06,\n",
       "         1.17658773e-06,  2.44185400e-07,  2.44185696e-07,  1.17658885e-06,\n",
       "        -3.50247391e-06, -1.78179456e-07, -1.78179564e-07,  1.17658762e-06,\n",
       "        -1.78179507e-07,  1.17658862e-06, -3.50247468e-06, -1.78178662e-07,\n",
       "        -3.50247391e-06, -3.50247387e-06,  3.21004769e-07,  2.44185401e-07,\n",
       "         2.44184538e-07,  2.44185546e-07, -7.89962713e-14,  4.74812789e-14,\n",
       "         3.21004557e-07, -3.50247378e-06,  2.44186155e-07,  2.44185129e-07,\n",
       "         2.44185467e-07,  2.44185492e-07,  1.17658807e-06,  2.44185055e-07,\n",
       "         2.44185487e-07,  3.21004430e-07, -3.50247373e-06,  2.44184702e-07,\n",
       "        -1.78179273e-07, -3.50247400e-06,  2.44185243e-07,  2.44186384e-07,\n",
       "         3.21004269e-07, -3.50247377e-06,  1.17658773e-06, -3.50247390e-06,\n",
       "        -1.78178915e-07,  2.44186114e-07,  3.21004965e-07,  2.44186191e-07,\n",
       "        -1.78178475e-07, -3.50247399e-06,  1.17658798e-06,  1.17658764e-06,\n",
       "        -3.50247344e-06,  3.21004138e-07,  3.21003995e-07,  3.21004396e-07,\n",
       "         3.21004618e-07,  3.21004433e-07,  3.21004547e-07, -3.50247367e-06,\n",
       "         1.17658847e-06,  2.44186257e-07, -1.78178599e-07, -1.78178843e-07,\n",
       "        -1.78179195e-07, -3.50247389e-06, -3.50247390e-06,  3.21005346e-07,\n",
       "         3.21003930e-07, -1.78178925e-07,  3.21004480e-07,  2.44185597e-07,\n",
       "         1.17658802e-06,  3.21004231e-07,  3.21004256e-07,  3.21004144e-07,\n",
       "         3.21004624e-07, -1.78179772e-07, -1.78179629e-07,  1.17658837e-06,\n",
       "         1.17658835e-06,  2.44185374e-07, -1.78179096e-07,  1.17658818e-06,\n",
       "         2.44185740e-07,  2.44185523e-07,  0.00000000e+00,  2.44185337e-07,\n",
       "         3.21004503e-07,  2.44185205e-07, -3.50247388e-06, -1.78179838e-07,\n",
       "         2.44185099e-07, -1.78178680e-07,  3.21004007e-07,  1.17658749e-06,\n",
       "         1.17658777e-06, -1.78179143e-07, -1.78178905e-07, -3.50247394e-06,\n",
       "         3.21003889e-07, -1.78179415e-07,  2.44185451e-07,  1.17658803e-06,\n",
       "         2.44185296e-07,  3.21005730e-07,  2.44185368e-07, -1.78178999e-07,\n",
       "        -1.78179299e-07, -3.50247351e-06,  2.44185696e-07,  1.17658813e-06,\n",
       "        -3.50247375e-06,  3.21003797e-07, -1.78179483e-07, -1.78179239e-07,\n",
       "        -1.78178248e-07,  3.21004438e-07, -3.50247368e-06, -3.50247402e-06,\n",
       "         3.21004348e-07,  3.21004208e-07, -3.50247352e-06, -3.50247333e-06,\n",
       "         3.21004070e-07,  1.17658858e-06,  3.21003990e-07, -3.50247417e-06,\n",
       "        -1.78178768e-07,  3.21004729e-07, -3.50247354e-06,  3.21004180e-07,\n",
       "        -1.78179051e-07,  2.44185696e-07,  3.21004224e-07,  1.17658809e-06,\n",
       "         1.17658847e-06,  2.44185157e-07,  3.21003794e-07,  2.44186140e-07,\n",
       "         1.00000000e+00]))"
      ]
     },
     "execution_count": 291,
     "metadata": {},
     "output_type": "execute_result"
    }
   ],
   "source": [
    "sklr.intercept_,sklr.coef_"
   ]
  },
  {
   "cell_type": "code",
   "execution_count": 292,
   "metadata": {},
   "outputs": [
    {
     "data": {
      "text/plain": [
       "0.9999997795379422"
      ]
     },
     "execution_count": 292,
     "metadata": {},
     "output_type": "execute_result"
    }
   ],
   "source": [
    "from sklearn.ensemble import RandomForestRegressor\n",
    "rf=RandomForestRegressor()\n",
    "rf.fit(X_train,y_train)\n",
    "rf.score(X_test,y_test)"
   ]
  },
  {
   "cell_type": "code",
   "execution_count": 293,
   "metadata": {},
   "outputs": [
    {
     "data": {
      "text/plain": [
       "0.062096774699438306"
      ]
     },
     "execution_count": 293,
     "metadata": {},
     "output_type": "execute_result"
    }
   ],
   "source": [
    "from sklearn.neighbors import KNeighborsRegressor\n",
    "knn = KNeighborsRegressor()\n",
    "knn.fit(X_train,y_train)\n",
    "knn.score(X_test,y_test)"
   ]
  },
  {
   "cell_type": "code",
   "execution_count": 295,
   "metadata": {},
   "outputs": [
    {
     "data": {
      "text/plain": [
       "0.9999999453425183"
      ]
     },
     "execution_count": 295,
     "metadata": {},
     "output_type": "execute_result"
    }
   ],
   "source": [
    "from sklearn.ensemble import VotingRegressor\n",
    "er = VotingRegressor([('lr', sklr), ('rf', rf)])\n",
    "er.fit(X_train,y_train)\n",
    "er.score(X_test,y_test)"
   ]
  },
  {
   "cell_type": "code",
   "execution_count": 296,
   "metadata": {},
   "outputs": [
    {
     "data": {
      "text/plain": [
       "0.9335816448990303"
      ]
     },
     "execution_count": 296,
     "metadata": {},
     "output_type": "execute_result"
    }
   ],
   "source": [
    "from sklearn.linear_model import Lasso\n",
    "ls = Lasso(alpha = 0.1)\n",
    "ls.fit(X_train,y_train)\n",
    "ls.score(X_train,y_train)"
   ]
  },
  {
   "cell_type": "code",
   "execution_count": 297,
   "metadata": {},
   "outputs": [
    {
     "data": {
      "text/plain": [
       "0.9484643236531054"
      ]
     },
     "execution_count": 297,
     "metadata": {},
     "output_type": "execute_result"
    }
   ],
   "source": [
    "from sklearn.linear_model import ElasticNet\n",
    "elastic_net = ElasticNet(alpha = 0.1, l1_ratio = 0.5)\n",
    "elastic_net.fit(X_train,y_train)\n",
    "elastic_net.score(X_train,y_train)"
   ]
  },
  {
   "cell_type": "code",
   "execution_count": null,
   "metadata": {},
   "outputs": [],
   "source": [
    "from sklearn.metrics import mean_squared_error\n",
    "X"
   ]
  },
  {
   "cell_type": "code",
   "execution_count": null,
   "metadata": {},
   "outputs": [],
   "source": []
  },
  {
   "cell_type": "code",
   "execution_count": null,
   "metadata": {},
   "outputs": [],
   "source": []
  },
  {
   "cell_type": "code",
   "execution_count": null,
   "metadata": {},
   "outputs": [],
   "source": [
    "# Checking Importance of Missing Values"
   ]
  },
  {
   "cell_type": "code",
   "execution_count": null,
   "metadata": {},
   "outputs": [],
   "source": []
  },
  {
   "cell_type": "markdown",
   "metadata": {},
   "source": [
    "## Naidu Sir's Data"
   ]
  },
  {
   "cell_type": "code",
   "execution_count": 196,
   "metadata": {},
   "outputs": [
    {
     "data": {
      "text/html": [
       "<div>\n",
       "<style scoped>\n",
       "    .dataframe tbody tr th:only-of-type {\n",
       "        vertical-align: middle;\n",
       "    }\n",
       "\n",
       "    .dataframe tbody tr th {\n",
       "        vertical-align: top;\n",
       "    }\n",
       "\n",
       "    .dataframe thead th {\n",
       "        text-align: right;\n",
       "    }\n",
       "</style>\n",
       "<table border=\"1\" class=\"dataframe\">\n",
       "  <thead>\n",
       "    <tr style=\"text-align: right;\">\n",
       "      <th></th>\n",
       "      <th>price</th>\n",
       "      <th>Distance in m</th>\n",
       "      <th>availability_365</th>\n",
       "      <th>minimum_nights</th>\n",
       "      <th>number_of_reviews</th>\n",
       "      <th>calculated_host_listings_count</th>\n",
       "    </tr>\n",
       "  </thead>\n",
       "  <tbody>\n",
       "    <tr>\n",
       "      <th>count</th>\n",
       "      <td>34226.000000</td>\n",
       "      <td>34226.000000</td>\n",
       "      <td>34226.000000</td>\n",
       "      <td>34226.000000</td>\n",
       "      <td>34226.000000</td>\n",
       "      <td>34226.000000</td>\n",
       "    </tr>\n",
       "    <tr>\n",
       "      <th>mean</th>\n",
       "      <td>153.480979</td>\n",
       "      <td>4126.813902</td>\n",
       "      <td>113.301730</td>\n",
       "      <td>6.953690</td>\n",
       "      <td>23.390931</td>\n",
       "      <td>7.093905</td>\n",
       "    </tr>\n",
       "    <tr>\n",
       "      <th>std</th>\n",
       "      <td>243.312608</td>\n",
       "      <td>2378.330009</td>\n",
       "      <td>131.892814</td>\n",
       "      <td>20.255833</td>\n",
       "      <td>44.476822</td>\n",
       "      <td>32.828412</td>\n",
       "    </tr>\n",
       "    <tr>\n",
       "      <th>min</th>\n",
       "      <td>0.000000</td>\n",
       "      <td>37.825129</td>\n",
       "      <td>0.000000</td>\n",
       "      <td>1.000000</td>\n",
       "      <td>0.000000</td>\n",
       "      <td>1.000000</td>\n",
       "    </tr>\n",
       "    <tr>\n",
       "      <th>25%</th>\n",
       "      <td>69.000000</td>\n",
       "      <td>2272.201619</td>\n",
       "      <td>0.000000</td>\n",
       "      <td>1.000000</td>\n",
       "      <td>1.000000</td>\n",
       "      <td>1.000000</td>\n",
       "    </tr>\n",
       "    <tr>\n",
       "      <th>50%</th>\n",
       "      <td>107.000000</td>\n",
       "      <td>3843.818246</td>\n",
       "      <td>45.000000</td>\n",
       "      <td>2.000000</td>\n",
       "      <td>5.000000</td>\n",
       "      <td>1.000000</td>\n",
       "    </tr>\n",
       "    <tr>\n",
       "      <th>75%</th>\n",
       "      <td>175.000000</td>\n",
       "      <td>5610.752609</td>\n",
       "      <td>229.000000</td>\n",
       "      <td>5.000000</td>\n",
       "      <td>24.000000</td>\n",
       "      <td>2.000000</td>\n",
       "    </tr>\n",
       "    <tr>\n",
       "      <th>max</th>\n",
       "      <td>10000.000000</td>\n",
       "      <td>19435.532320</td>\n",
       "      <td>365.000000</td>\n",
       "      <td>1250.000000</td>\n",
       "      <td>629.000000</td>\n",
       "      <td>327.000000</td>\n",
       "    </tr>\n",
       "  </tbody>\n",
       "</table>\n",
       "</div>"
      ],
      "text/plain": [
       "              price  Distance in m  availability_365  minimum_nights  \\\n",
       "count  34226.000000   34226.000000      34226.000000    34226.000000   \n",
       "mean     153.480979    4126.813902        113.301730        6.953690   \n",
       "std      243.312608    2378.330009        131.892814       20.255833   \n",
       "min        0.000000      37.825129          0.000000        1.000000   \n",
       "25%       69.000000    2272.201619          0.000000        1.000000   \n",
       "50%      107.000000    3843.818246         45.000000        2.000000   \n",
       "75%      175.000000    5610.752609        229.000000        5.000000   \n",
       "max    10000.000000   19435.532320        365.000000     1250.000000   \n",
       "\n",
       "       number_of_reviews  calculated_host_listings_count  \n",
       "count       34226.000000                    34226.000000  \n",
       "mean           23.390931                        7.093905  \n",
       "std            44.476822                       32.828412  \n",
       "min             0.000000                        1.000000  \n",
       "25%             1.000000                        1.000000  \n",
       "50%             5.000000                        1.000000  \n",
       "75%            24.000000                        2.000000  \n",
       "max           629.000000                      327.000000  "
      ]
     },
     "execution_count": 196,
     "metadata": {},
     "output_type": "execute_result"
    }
   ],
   "source": [
    "df_new = df1[[\"price\",\"Distance in m\", \"availability_365\",\"minimum_nights\",\"number_of_reviews\",\"calculated_host_listings_count\"]]\n",
    "df_new.describe()"
   ]
  },
  {
   "cell_type": "code",
   "execution_count": 197,
   "metadata": {},
   "outputs": [
    {
     "data": {
      "text/html": [
       "<div>\n",
       "<style scoped>\n",
       "    .dataframe tbody tr th:only-of-type {\n",
       "        vertical-align: middle;\n",
       "    }\n",
       "\n",
       "    .dataframe tbody tr th {\n",
       "        vertical-align: top;\n",
       "    }\n",
       "\n",
       "    .dataframe thead th {\n",
       "        text-align: right;\n",
       "    }\n",
       "</style>\n",
       "<table border=\"1\" class=\"dataframe\">\n",
       "  <thead>\n",
       "    <tr style=\"text-align: right;\">\n",
       "      <th></th>\n",
       "      <th>price</th>\n",
       "      <th>Distance in m</th>\n",
       "      <th>availability_365</th>\n",
       "      <th>minimum_nights</th>\n",
       "      <th>number_of_reviews</th>\n",
       "      <th>calculated_host_listings_count</th>\n",
       "    </tr>\n",
       "  </thead>\n",
       "  <tbody>\n",
       "    <tr>\n",
       "      <th>price</th>\n",
       "      <td>1.000000</td>\n",
       "      <td>-0.121383</td>\n",
       "      <td>0.083439</td>\n",
       "      <td>0.045746</td>\n",
       "      <td>-0.048459</td>\n",
       "      <td>0.053688</td>\n",
       "    </tr>\n",
       "    <tr>\n",
       "      <th>Distance in m</th>\n",
       "      <td>-0.121383</td>\n",
       "      <td>1.000000</td>\n",
       "      <td>0.077678</td>\n",
       "      <td>-0.063148</td>\n",
       "      <td>0.044560</td>\n",
       "      <td>-0.075033</td>\n",
       "    </tr>\n",
       "    <tr>\n",
       "      <th>availability_365</th>\n",
       "      <td>0.083439</td>\n",
       "      <td>0.077678</td>\n",
       "      <td>1.000000</td>\n",
       "      <td>0.142466</td>\n",
       "      <td>0.176161</td>\n",
       "      <td>0.223409</td>\n",
       "    </tr>\n",
       "    <tr>\n",
       "      <th>minimum_nights</th>\n",
       "      <td>0.045746</td>\n",
       "      <td>-0.063148</td>\n",
       "      <td>0.142466</td>\n",
       "      <td>1.000000</td>\n",
       "      <td>-0.078890</td>\n",
       "      <td>0.128552</td>\n",
       "    </tr>\n",
       "    <tr>\n",
       "      <th>number_of_reviews</th>\n",
       "      <td>-0.048459</td>\n",
       "      <td>0.044560</td>\n",
       "      <td>0.176161</td>\n",
       "      <td>-0.078890</td>\n",
       "      <td>1.000000</td>\n",
       "      <td>-0.072643</td>\n",
       "    </tr>\n",
       "    <tr>\n",
       "      <th>calculated_host_listings_count</th>\n",
       "      <td>0.053688</td>\n",
       "      <td>-0.075033</td>\n",
       "      <td>0.223409</td>\n",
       "      <td>0.128552</td>\n",
       "      <td>-0.072643</td>\n",
       "      <td>1.000000</td>\n",
       "    </tr>\n",
       "  </tbody>\n",
       "</table>\n",
       "</div>"
      ],
      "text/plain": [
       "                                   price  Distance in m  availability_365  \\\n",
       "price                           1.000000      -0.121383          0.083439   \n",
       "Distance in m                  -0.121383       1.000000          0.077678   \n",
       "availability_365                0.083439       0.077678          1.000000   \n",
       "minimum_nights                  0.045746      -0.063148          0.142466   \n",
       "number_of_reviews              -0.048459       0.044560          0.176161   \n",
       "calculated_host_listings_count  0.053688      -0.075033          0.223409   \n",
       "\n",
       "                                minimum_nights  number_of_reviews  \\\n",
       "price                                 0.045746          -0.048459   \n",
       "Distance in m                        -0.063148           0.044560   \n",
       "availability_365                      0.142466           0.176161   \n",
       "minimum_nights                        1.000000          -0.078890   \n",
       "number_of_reviews                    -0.078890           1.000000   \n",
       "calculated_host_listings_count        0.128552          -0.072643   \n",
       "\n",
       "                                calculated_host_listings_count  \n",
       "price                                                 0.053688  \n",
       "Distance in m                                        -0.075033  \n",
       "availability_365                                      0.223409  \n",
       "minimum_nights                                        0.128552  \n",
       "number_of_reviews                                    -0.072643  \n",
       "calculated_host_listings_count                        1.000000  "
      ]
     },
     "execution_count": 197,
     "metadata": {},
     "output_type": "execute_result"
    }
   ],
   "source": [
    "df_new.corr() # need scaling, I guess"
   ]
  },
  {
   "cell_type": "code",
   "execution_count": null,
   "metadata": {},
   "outputs": [],
   "source": []
  },
  {
   "cell_type": "code",
   "execution_count": null,
   "metadata": {},
   "outputs": [],
   "source": []
  },
  {
   "cell_type": "markdown",
   "metadata": {},
   "source": [
    "# Price Distribution (Actual Dataset)"
   ]
  },
  {
   "cell_type": "code",
   "execution_count": 198,
   "metadata": {},
   "outputs": [
    {
     "data": {
      "image/png": "[encoded data removed]",
      "text/plain": [
       "<Figure size 432x288 with 1 Axes>"
      ]
     },
     "metadata": {},
     "output_type": "display_data"
    }
   ],
   "source": [
    "import matplotlib \n",
    "#matplotlib.rcParams[\"figure.figsize\"] = (15,10)\n",
    "plt.yscale('log')\n",
    "plt.hist(df1.price,rwidth=0.5)\n",
    "plt.xlabel('price')\n",
    "plt.ylabel('No. of properties')\n",
    "plt.rcParams.update({'font.size': 22})\n",
    "plt.show()"
   ]
  },
  {
   "cell_type": "code",
   "execution_count": null,
   "metadata": {},
   "outputs": [],
   "source": []
  },
  {
   "cell_type": "code",
   "execution_count": 199,
   "metadata": {},
   "outputs": [
    {
     "data": {
      "image/png": "[encoded data removed]",
      "text/plain": [
       "<Figure size 432x288 with 1 Axes>"
      ]
     },
     "metadata": {},
     "output_type": "display_data"
    }
   ],
   "source": [
    "df2 = df1[df1.price<3000]\n",
    "#plt.yscale('log')\n",
    "plt.hist(df2.price,rwidth=0.5)\n",
    "plt.xlabel('price')\n",
    "plt.ylabel('No. of properties')\n",
    "plt.rcParams.update({'font.size': 22})\n",
    "plt.show()"
   ]
  },
  {
   "cell_type": "markdown",
   "metadata": {},
   "source": [
    "### An Important Insight - Price distribution (price<500)\n",
    "- Majority of the properties (about 1/3 rd) are priced around 100 dollars\n",
    "- Only 892 properties cost more than 500 dollars"
   ]
  },
  {
   "cell_type": "code",
   "execution_count": 200,
   "metadata": {},
   "outputs": [
    {
     "data": {
      "image/png": "[encoded data removed]",
      "text/plain": [
       "<Figure size 432x288 with 1 Axes>"
      ]
     },
     "metadata": {},
     "output_type": "display_data"
    }
   ],
   "source": [
    "\n",
    "df2 = df1[df1.price < 500]\n",
    "#plt.yscale('log')\n",
    "plt.hist(df2.price,rwidth=0.5)\n",
    "plt.xlabel('price')\n",
    "plt.ylabel('No. of properties')\n",
    "plt.rcParams.update({'font.size': 22})\n",
    "plt.show()"
   ]
  },
  {
   "cell_type": "code",
   "execution_count": 201,
   "metadata": {},
   "outputs": [
    {
     "data": {
      "text/plain": [
       "(892, 18)"
      ]
     },
     "execution_count": 201,
     "metadata": {},
     "output_type": "execute_result"
    }
   ],
   "source": [
    "\n",
    "df2 = df1[df1.price>=500]\n",
    "df2.shape"
   ]
  },
  {
   "cell_type": "markdown",
   "metadata": {},
   "source": [
    "### Total Neighbourhood Groups"
   ]
  },
  {
   "cell_type": "code",
   "execution_count": 202,
   "metadata": {},
   "outputs": [
    {
     "data": {
      "text/plain": [
       "Manhattan        15193\n",
       "Brooklyn         14033\n",
       "Queens            3985\n",
       "Bronx              767\n",
       "Staten Island      248\n",
       "Name: neighbourhood_group, dtype: int64"
      ]
     },
     "execution_count": 202,
     "metadata": {},
     "output_type": "execute_result"
    }
   ],
   "source": [
    "#Total neighbourhood_groups\n",
    "df1['neighbourhood_group'].value_counts()"
   ]
  },
  {
   "cell_type": "markdown",
   "metadata": {},
   "source": [
    "### Insights related to Hosts"
   ]
  },
  {
   "cell_type": "code",
   "execution_count": 203,
   "metadata": {},
   "outputs": [
    {
     "data": {
      "text/plain": [
       "Michael            291\n",
       "David              290\n",
       "Sonder (NYC)       229\n",
       "John               208\n",
       "Alex               199\n",
       "                  ... \n",
       "Fleur                1\n",
       "Onome                1\n",
       "Rabi & Soukaina      1\n",
       "Holden               1\n",
       "Bud                  1\n",
       "Name: host_name, Length: 9290, dtype: int64"
      ]
     },
     "execution_count": 203,
     "metadata": {},
     "output_type": "execute_result"
    }
   ],
   "source": [
    "df1[\"host_name\"].value_counts()"
   ]
  },
  {
   "cell_type": "markdown",
   "metadata": {},
   "source": [
    "### Finding average price of top host \"Michael\" by 'room_type'"
   ]
  },
  {
   "cell_type": "code",
   "execution_count": 204,
   "metadata": {},
   "outputs": [
    {
     "data": {
      "text/plain": [
       "room_type\n",
       "Entire home/apt    195.715909\n",
       "Private room        81.266667\n",
       "Shared room         72.100000\n",
       "Name: price, dtype: float64"
      ]
     },
     "execution_count": 204,
     "metadata": {},
     "output_type": "execute_result"
    }
   ],
   "source": [
    "df1_michael = df1[ df1['host_name']=='Michael']\n",
    "df1_michael.groupby('room_type')['price'].mean()"
   ]
  },
  {
   "cell_type": "markdown",
   "metadata": {},
   "source": [
    "### Finding average price of top host \"Michael\" by ' neighbourhood'"
   ]
  },
  {
   "cell_type": "code",
   "execution_count": 205,
   "metadata": {},
   "outputs": [
    {
     "data": {
      "text/plain": [
       "neighbourhood\n",
       "Arverne                      300.000000\n",
       "Astoria                       98.000000\n",
       "Bay Ridge                    135.000000\n",
       "Bedford-Stuyvesant            75.750000\n",
       "Boerum Hill                  145.000000\n",
       "Brighton Beach                83.333333\n",
       "Brooklyn Heights             170.000000\n",
       "Bushwick                      92.105263\n",
       "Carroll Gardens              125.000000\n",
       "Chelsea                      206.440000\n",
       "Chinatown                    195.000000\n",
       "Claremont Village            150.000000\n",
       "Clinton Hill                 121.250000\n",
       "Concord                      120.000000\n",
       "Concourse Village             85.000000\n",
       "Crown Heights                119.000000\n",
       "East Harlem                   77.000000\n",
       "East New York                 33.000000\n",
       "East Village                 165.916667\n",
       "Financial District           145.000000\n",
       "Flatbush                     100.000000\n",
       "Flatiron District            400.000000\n",
       "Gowanus                      125.000000\n",
       "Gramercy                     202.000000\n",
       "Greenpoint                   130.600000\n",
       "Greenwich Village            148.000000\n",
       "Harlem                       106.000000\n",
       "Hell's Kitchen               161.368421\n",
       "Inwood                        46.000000\n",
       "Jamaica                       65.000000\n",
       "Kips Bay                     125.000000\n",
       "Laurelton                     75.000000\n",
       "Little Italy                 250.000000\n",
       "Long Island City             149.750000\n",
       "Lower East Side              162.166667\n",
       "Midtown                      272.250000\n",
       "Morningside Heights          150.000000\n",
       "Nolita                       248.333333\n",
       "Park Slope                   156.000000\n",
       "Prospect-Lefferts Gardens    274.500000\n",
       "Ridgewood                    210.000000\n",
       "Rockaway Beach               545.000000\n",
       "Sheepshead Bay               150.000000\n",
       "SoHo                         500.000000\n",
       "South Slope                  169.000000\n",
       "Springfield Gardens           75.000000\n",
       "St. George                    50.000000\n",
       "Sunnyside                     65.600000\n",
       "Todt Hill                     62.000000\n",
       "Tribeca                      180.000000\n",
       "Upper East Side              210.166667\n",
       "Upper West Side              164.500000\n",
       "Vinegar Hill                 199.500000\n",
       "Wakefield                    100.000000\n",
       "Washington Heights            94.900000\n",
       "West Village                 231.800000\n",
       "Williamsburg                 119.483871\n",
       "Windsor Terrace              130.000000\n",
       "Name: price, dtype: float64"
      ]
     },
     "execution_count": 205,
     "metadata": {},
     "output_type": "execute_result"
    }
   ],
   "source": [
    "df1_michael.groupby('neighbourhood')['price'].mean()"
   ]
  },
  {
   "cell_type": "markdown",
   "metadata": {},
   "source": [
    "### Costliest Hosts"
   ]
  },
  {
   "cell_type": "code",
   "execution_count": 206,
   "metadata": {},
   "outputs": [
    {
     "data": {
      "text/html": [
       "<div>\n",
       "<style scoped>\n",
       "    .dataframe tbody tr th:only-of-type {\n",
       "        vertical-align: middle;\n",
       "    }\n",
       "\n",
       "    .dataframe tbody tr th {\n",
       "        vertical-align: top;\n",
       "    }\n",
       "\n",
       "    .dataframe thead th {\n",
       "        text-align: right;\n",
       "    }\n",
       "</style>\n",
       "<table border=\"1\" class=\"dataframe\">\n",
       "  <thead>\n",
       "    <tr style=\"text-align: right;\">\n",
       "      <th></th>\n",
       "      <th>host_name</th>\n",
       "      <th>neighbourhood_group</th>\n",
       "      <th>neighbourhood</th>\n",
       "      <th>room_type</th>\n",
       "      <th>price</th>\n",
       "    </tr>\n",
       "  </thead>\n",
       "  <tbody>\n",
       "    <tr>\n",
       "      <th>29644</th>\n",
       "      <td>Erin</td>\n",
       "      <td>Brooklyn</td>\n",
       "      <td>Greenpoint</td>\n",
       "      <td>Entire home/apt</td>\n",
       "      <td>10000</td>\n",
       "    </tr>\n",
       "    <tr>\n",
       "      <th>12404</th>\n",
       "      <td>Jelena</td>\n",
       "      <td>Manhattan</td>\n",
       "      <td>Upper West Side</td>\n",
       "      <td>Entire home/apt</td>\n",
       "      <td>10000</td>\n",
       "    </tr>\n",
       "    <tr>\n",
       "      <th>12523</th>\n",
       "      <td>Matt</td>\n",
       "      <td>Manhattan</td>\n",
       "      <td>Lower East Side</td>\n",
       "      <td>Entire home/apt</td>\n",
       "      <td>9999</td>\n",
       "    </tr>\n",
       "    <tr>\n",
       "      <th>20810</th>\n",
       "      <td>Amy</td>\n",
       "      <td>Manhattan</td>\n",
       "      <td>Lower East Side</td>\n",
       "      <td>Private room</td>\n",
       "      <td>9999</td>\n",
       "    </tr>\n",
       "    <tr>\n",
       "      <th>23350</th>\n",
       "      <td>Rum</td>\n",
       "      <td>Manhattan</td>\n",
       "      <td>Tribeca</td>\n",
       "      <td>Entire home/apt</td>\n",
       "      <td>8500</td>\n",
       "    </tr>\n",
       "    <tr>\n",
       "      <th>31293</th>\n",
       "      <td>Jessica</td>\n",
       "      <td>Brooklyn</td>\n",
       "      <td>Clinton Hill</td>\n",
       "      <td>Entire home/apt</td>\n",
       "      <td>8000</td>\n",
       "    </tr>\n",
       "    <tr>\n",
       "      <th>3719</th>\n",
       "      <td>Sally</td>\n",
       "      <td>Manhattan</td>\n",
       "      <td>Upper East Side</td>\n",
       "      <td>Entire home/apt</td>\n",
       "      <td>7703</td>\n",
       "    </tr>\n",
       "    <tr>\n",
       "      <th>15974</th>\n",
       "      <td>Jack</td>\n",
       "      <td>Manhattan</td>\n",
       "      <td>Battery Park City</td>\n",
       "      <td>Entire home/apt</td>\n",
       "      <td>7500</td>\n",
       "    </tr>\n",
       "    <tr>\n",
       "      <th>7817</th>\n",
       "      <td>Kevin</td>\n",
       "      <td>Manhattan</td>\n",
       "      <td>Chelsea</td>\n",
       "      <td>Entire home/apt</td>\n",
       "      <td>6800</td>\n",
       "    </tr>\n",
       "    <tr>\n",
       "      <th>3754</th>\n",
       "      <td>Jonathan</td>\n",
       "      <td>Brooklyn</td>\n",
       "      <td>Clinton Hill</td>\n",
       "      <td>Entire home/apt</td>\n",
       "      <td>6500</td>\n",
       "    </tr>\n",
       "  </tbody>\n",
       "</table>\n",
       "</div>"
      ],
      "text/plain": [
       "      host_name neighbourhood_group      neighbourhood        room_type  price\n",
       "29644      Erin            Brooklyn         Greenpoint  Entire home/apt  10000\n",
       "12404    Jelena           Manhattan    Upper West Side  Entire home/apt  10000\n",
       "12523      Matt           Manhattan    Lower East Side  Entire home/apt   9999\n",
       "20810       Amy           Manhattan    Lower East Side     Private room   9999\n",
       "23350       Rum           Manhattan            Tribeca  Entire home/apt   8500\n",
       "31293   Jessica            Brooklyn       Clinton Hill  Entire home/apt   8000\n",
       "3719      Sally           Manhattan    Upper East Side  Entire home/apt   7703\n",
       "15974      Jack           Manhattan  Battery Park City  Entire home/apt   7500\n",
       "7817      Kevin           Manhattan            Chelsea  Entire home/apt   6800\n",
       "3754   Jonathan            Brooklyn       Clinton Hill  Entire home/apt   6500"
      ]
     },
     "execution_count": 206,
     "metadata": {},
     "output_type": "execute_result"
    }
   ],
   "source": [
    "df1[['host_name', 'neighbourhood_group','neighbourhood','room_type','price']].sort_values('price', ascending=False).head(10)"
   ]
  },
  {
   "cell_type": "markdown",
   "metadata": {},
   "source": [
    "### Hosts providing Cheapest Homestays "
   ]
  },
  {
   "cell_type": "code",
   "execution_count": 207,
   "metadata": {},
   "outputs": [
    {
     "data": {
      "text/html": [
       "<div>\n",
       "<style scoped>\n",
       "    .dataframe tbody tr th:only-of-type {\n",
       "        vertical-align: middle;\n",
       "    }\n",
       "\n",
       "    .dataframe tbody tr th {\n",
       "        vertical-align: top;\n",
       "    }\n",
       "\n",
       "    .dataframe thead th {\n",
       "        text-align: right;\n",
       "    }\n",
       "</style>\n",
       "<table border=\"1\" class=\"dataframe\">\n",
       "  <thead>\n",
       "    <tr style=\"text-align: right;\">\n",
       "      <th></th>\n",
       "      <th>host_name</th>\n",
       "      <th>neighbourhood_group</th>\n",
       "      <th>neighbourhood</th>\n",
       "      <th>room_type</th>\n",
       "      <th>price</th>\n",
       "    </tr>\n",
       "  </thead>\n",
       "  <tbody>\n",
       "    <tr>\n",
       "      <th>23016</th>\n",
       "      <td>Rachel</td>\n",
       "      <td>Brooklyn</td>\n",
       "      <td>Sunset Park</td>\n",
       "      <td>Entire home/apt</td>\n",
       "      <td>10</td>\n",
       "    </tr>\n",
       "    <tr>\n",
       "      <th>26630</th>\n",
       "      <td>Kimberly</td>\n",
       "      <td>Brooklyn</td>\n",
       "      <td>Bedford-Stuyvesant</td>\n",
       "      <td>Private room</td>\n",
       "      <td>0</td>\n",
       "    </tr>\n",
       "    <tr>\n",
       "      <th>2133</th>\n",
       "      <td>Adeyemi</td>\n",
       "      <td>Brooklyn</td>\n",
       "      <td>Bedford-Stuyvesant</td>\n",
       "      <td>Private room</td>\n",
       "      <td>0</td>\n",
       "    </tr>\n",
       "    <tr>\n",
       "      <th>32184</th>\n",
       "      <td>Aymeric</td>\n",
       "      <td>Brooklyn</td>\n",
       "      <td>Williamsburg</td>\n",
       "      <td>Entire home/apt</td>\n",
       "      <td>0</td>\n",
       "    </tr>\n",
       "    <tr>\n",
       "      <th>30259</th>\n",
       "      <td>Martial Loft</td>\n",
       "      <td>Brooklyn</td>\n",
       "      <td>Bushwick</td>\n",
       "      <td>Private room</td>\n",
       "      <td>0</td>\n",
       "    </tr>\n",
       "    <tr>\n",
       "      <th>25414</th>\n",
       "      <td>Qiuchi</td>\n",
       "      <td>Manhattan</td>\n",
       "      <td>Murray Hill</td>\n",
       "      <td>Entire home/apt</td>\n",
       "      <td>0</td>\n",
       "    </tr>\n",
       "    <tr>\n",
       "      <th>21441</th>\n",
       "      <td>Adeyemi</td>\n",
       "      <td>Brooklyn</td>\n",
       "      <td>Bedford-Stuyvesant</td>\n",
       "      <td>Private room</td>\n",
       "      <td>0</td>\n",
       "    </tr>\n",
       "    <tr>\n",
       "      <th>11311</th>\n",
       "      <td>Sergii</td>\n",
       "      <td>Brooklyn</td>\n",
       "      <td>Bushwick</td>\n",
       "      <td>Shared room</td>\n",
       "      <td>0</td>\n",
       "    </tr>\n",
       "    <tr>\n",
       "      <th>25277</th>\n",
       "      <td>Lauren</td>\n",
       "      <td>Brooklyn</td>\n",
       "      <td>Greenpoint</td>\n",
       "      <td>Private room</td>\n",
       "      <td>0</td>\n",
       "    </tr>\n",
       "    <tr>\n",
       "      <th>11638</th>\n",
       "      <td>Adeyemi</td>\n",
       "      <td>Brooklyn</td>\n",
       "      <td>Bedford-Stuyvesant</td>\n",
       "      <td>Private room</td>\n",
       "      <td>0</td>\n",
       "    </tr>\n",
       "  </tbody>\n",
       "</table>\n",
       "</div>"
      ],
      "text/plain": [
       "          host_name neighbourhood_group       neighbourhood        room_type  \\\n",
       "23016        Rachel            Brooklyn         Sunset Park  Entire home/apt   \n",
       "26630      Kimberly            Brooklyn  Bedford-Stuyvesant     Private room   \n",
       "2133        Adeyemi            Brooklyn  Bedford-Stuyvesant     Private room   \n",
       "32184       Aymeric            Brooklyn        Williamsburg  Entire home/apt   \n",
       "30259  Martial Loft            Brooklyn            Bushwick     Private room   \n",
       "25414        Qiuchi           Manhattan         Murray Hill  Entire home/apt   \n",
       "21441       Adeyemi            Brooklyn  Bedford-Stuyvesant     Private room   \n",
       "11311        Sergii            Brooklyn            Bushwick      Shared room   \n",
       "25277        Lauren            Brooklyn          Greenpoint     Private room   \n",
       "11638       Adeyemi            Brooklyn  Bedford-Stuyvesant     Private room   \n",
       "\n",
       "       price  \n",
       "23016     10  \n",
       "26630      0  \n",
       "2133       0  \n",
       "32184      0  \n",
       "30259      0  \n",
       "25414      0  \n",
       "21441      0  \n",
       "11311      0  \n",
       "25277      0  \n",
       "11638      0  "
      ]
     },
     "execution_count": 207,
     "metadata": {},
     "output_type": "execute_result"
    }
   ],
   "source": [
    "df1[['host_name', 'neighbourhood_group','neighbourhood','room_type','price']].sort_values('price', ascending=False).tail(10)"
   ]
  },
  {
   "cell_type": "markdown",
   "metadata": {},
   "source": [
    "### Finding costly host_names for a 'Entire home/apt' in the most popular locality: Williamsburg, Brooklyn"
   ]
  },
  {
   "cell_type": "code",
   "execution_count": 208,
   "metadata": {},
   "outputs": [
    {
     "data": {
      "image/png": "[encoded data removed]",
      "text/plain": [
       "<Figure size 432x288 with 1 Axes>"
      ]
     },
     "metadata": {},
     "output_type": "display_data"
    }
   ],
   "source": [
    "\n",
    "df_apt = df1[ df1['room_type']=='Entire home/apt']\n",
    "\n",
    "df_brook_apt = df_apt[ df_apt['neighbourhood_group']=='Brooklyn']\n",
    "\n",
    "#df4 = df3[ df3['host_name']=='Sonder (NYC)']\n",
    "\n",
    "#df3['neighbourhood'].value_counts()\n",
    "\n",
    "df_will_brook_apt=df_brook_apt[df_brook_apt['neighbourhood']=='Williamsburg']\n",
    "\n",
    "df_will_brook_apt_clean = df_will_brook_apt[['id','name','host_name','host_id', 'price']].sort_values('price', ascending=False).head(10)\n",
    "#plt.figure(figsize=(30,20))\n",
    "df_will_brook_apt_clean.plot(kind='bar',x='host_name',y='price')\n",
    "\n",
    "plt.show()"
   ]
  },
  {
   "cell_type": "markdown",
   "metadata": {},
   "source": [
    "###  Same plot with name of property"
   ]
  },
  {
   "cell_type": "code",
   "execution_count": 209,
   "metadata": {},
   "outputs": [
    {
     "data": {
      "image/png": "[encoded data removed]",
      "text/plain": [
       "<Figure size 432x288 with 1 Axes>"
      ]
     },
     "metadata": {},
     "output_type": "display_data"
    }
   ],
   "source": [
    "df_will_brook_apt_clean.plot(kind='bar',x='name',y='price')\n",
    "plt.show()\n"
   ]
  },
  {
   "cell_type": "markdown",
   "metadata": {},
   "source": [
    "### Finding cheap host_names for a 'Entire home/apt' in the most popular locality: Williamsburg, Brooklyn"
   ]
  },
  {
   "cell_type": "code",
   "execution_count": 210,
   "metadata": {},
   "outputs": [
    {
     "data": {
      "image/png": "[encoded data removed]",
      "text/plain": [
       "<Figure size 432x288 with 1 Axes>"
      ]
     },
     "metadata": {},
     "output_type": "display_data"
    }
   ],
   "source": [
    "df_will_brook_apt_clean = df_will_brook_apt[['id','name','host_name','host_id', 'price']].sort_values('price', ascending=False).tail(10)\n",
    "df_will_brook_apt_clean.plot(kind='bar',x='host_name',y='price')\n",
    "plt.show()"
   ]
  },
  {
   "cell_type": "markdown",
   "metadata": {},
   "source": [
    "### Same plot with name of property\n"
   ]
  },
  {
   "cell_type": "code",
   "execution_count": 211,
   "metadata": {},
   "outputs": [
    {
     "data": {
      "image/png": "[encoded data removed]",
      "text/plain": [
       "<Figure size 432x288 with 1 Axes>"
      ]
     },
     "metadata": {},
     "output_type": "display_data"
    }
   ],
   "source": [
    "df_will_brook_apt_clean.plot(kind='bar',x='name',y='price')\n",
    "plt.show()"
   ]
  },
  {
   "cell_type": "code",
   "execution_count": 212,
   "metadata": {},
   "outputs": [
    {
     "data": {
      "text/plain": [
       "Index(['Unnamed: 0', 'id', 'name', 'host_id', 'host_name',\n",
       "       'neighbourhood_group', 'neighbourhood', 'latitude', 'longitude',\n",
       "       'room_type', 'price', 'minimum_nights', 'number_of_reviews',\n",
       "       'last_review', 'reviews_per_month', 'calculated_host_listings_count',\n",
       "       'availability_365', 'Distance in m'],\n",
       "      dtype='object')"
      ]
     },
     "execution_count": 212,
     "metadata": {},
     "output_type": "execute_result"
    }
   ],
   "source": [
    "df1.columns"
   ]
  },
  {
   "cell_type": "markdown",
   "metadata": {},
   "source": [
    "## Data Cleaning on df1 dataset"
   ]
  },
  {
   "cell_type": "code",
   "execution_count": 234,
   "metadata": {},
   "outputs": [
    {
     "name": "stdout",
     "output_type": "stream",
     "text": [
      "<class 'pandas.core.frame.DataFrame'>\n",
      "RangeIndex: 34226 entries, 0 to 34225\n",
      "Data columns (total 18 columns):\n",
      " #   Column                          Non-Null Count  Dtype  \n",
      "---  ------                          --------------  -----  \n",
      " 0   Unnamed: 0                      34226 non-null  int64  \n",
      " 1   id                              34226 non-null  int64  \n",
      " 2   name                            34214 non-null  object \n",
      " 3   host_id                         34226 non-null  int64  \n",
      " 4   host_name                       34213 non-null  object \n",
      " 5   neighbourhood_group             34226 non-null  object \n",
      " 6   neighbourhood                   34226 non-null  object \n",
      " 7   latitude                        34226 non-null  float64\n",
      " 8   longitude                       34226 non-null  float64\n",
      " 9   room_type                       34226 non-null  object \n",
      " 10  price                           34226 non-null  int64  \n",
      " 11  minimum_nights                  34226 non-null  int64  \n",
      " 12  number_of_reviews               34226 non-null  int64  \n",
      " 13  last_review                     27244 non-null  object \n",
      " 14  reviews_per_month               27244 non-null  float64\n",
      " 15  calculated_host_listings_count  34226 non-null  int64  \n",
      " 16  availability_365                34226 non-null  int64  \n",
      " 17  Distance in m                   34226 non-null  float64\n",
      "dtypes: float64(4), int64(8), object(6)\n",
      "memory usage: 4.7+ MB\n"
     ]
    }
   ],
   "source": [
    "df1.info()"
   ]
  },
  {
   "cell_type": "code",
   "execution_count": 237,
   "metadata": {},
   "outputs": [
    {
     "data": {
      "text/html": [
       "<div>\n",
       "<style scoped>\n",
       "    .dataframe tbody tr th:only-of-type {\n",
       "        vertical-align: middle;\n",
       "    }\n",
       "\n",
       "    .dataframe tbody tr th {\n",
       "        vertical-align: top;\n",
       "    }\n",
       "\n",
       "    .dataframe thead th {\n",
       "        text-align: right;\n",
       "    }\n",
       "</style>\n",
       "<table border=\"1\" class=\"dataframe\">\n",
       "  <thead>\n",
       "    <tr style=\"text-align: right;\">\n",
       "      <th></th>\n",
       "      <th>name</th>\n",
       "      <th>host_name</th>\n",
       "      <th>neighbourhood_group</th>\n",
       "      <th>neighbourhood</th>\n",
       "      <th>latitude</th>\n",
       "      <th>longitude</th>\n",
       "      <th>room_type</th>\n",
       "      <th>price</th>\n",
       "      <th>minimum_nights</th>\n",
       "      <th>calculated_host_listings_count</th>\n",
       "      <th>availability_365</th>\n",
       "      <th>Distance in m</th>\n",
       "    </tr>\n",
       "  </thead>\n",
       "  <tbody>\n",
       "    <tr>\n",
       "      <th>0</th>\n",
       "      <td>Large private room in Nolita</td>\n",
       "      <td>Nat</td>\n",
       "      <td>Manhattan</td>\n",
       "      <td>Nolita</td>\n",
       "      <td>40.72217</td>\n",
       "      <td>-73.99481</td>\n",
       "      <td>Private room</td>\n",
       "      <td>120</td>\n",
       "      <td>7</td>\n",
       "      <td>3</td>\n",
       "      <td>0</td>\n",
       "      <td>3531.592026</td>\n",
       "    </tr>\n",
       "    <tr>\n",
       "      <th>1</th>\n",
       "      <td>Super Bowl New York City Apartment</td>\n",
       "      <td>Brian</td>\n",
       "      <td>Manhattan</td>\n",
       "      <td>Upper West Side</td>\n",
       "      <td>40.80020</td>\n",
       "      <td>-73.96045</td>\n",
       "      <td>Entire home/apt</td>\n",
       "      <td>1500</td>\n",
       "      <td>1</td>\n",
       "      <td>1</td>\n",
       "      <td>0</td>\n",
       "      <td>1053.236649</td>\n",
       "    </tr>\n",
       "    <tr>\n",
       "      <th>2</th>\n",
       "      <td>COZY APT CLOSE TO LGA &amp; JFK AND TRANSPORTATION</td>\n",
       "      <td>Jenny</td>\n",
       "      <td>Queens</td>\n",
       "      <td>East Elmhurst</td>\n",
       "      <td>40.75558</td>\n",
       "      <td>-73.89316</td>\n",
       "      <td>Entire home/apt</td>\n",
       "      <td>200</td>\n",
       "      <td>2</td>\n",
       "      <td>1</td>\n",
       "      <td>365</td>\n",
       "      <td>3625.877178</td>\n",
       "    </tr>\n",
       "    <tr>\n",
       "      <th>3</th>\n",
       "      <td>Stream-Pressed Paradise (Laundry Room Setup)</td>\n",
       "      <td>Rita</td>\n",
       "      <td>Staten Island</td>\n",
       "      <td>Concord</td>\n",
       "      <td>40.60110</td>\n",
       "      <td>-74.07830</td>\n",
       "      <td>Shared room</td>\n",
       "      <td>30</td>\n",
       "      <td>2</td>\n",
       "      <td>4</td>\n",
       "      <td>82</td>\n",
       "      <td>11083.756514</td>\n",
       "    </tr>\n",
       "    <tr>\n",
       "      <th>4</th>\n",
       "      <td>Charming Harlem apartment</td>\n",
       "      <td>Gina</td>\n",
       "      <td>Manhattan</td>\n",
       "      <td>Harlem</td>\n",
       "      <td>40.81022</td>\n",
       "      <td>-73.94266</td>\n",
       "      <td>Shared room</td>\n",
       "      <td>115</td>\n",
       "      <td>1</td>\n",
       "      <td>1</td>\n",
       "      <td>365</td>\n",
       "      <td>1928.404038</td>\n",
       "    </tr>\n",
       "    <tr>\n",
       "      <th>...</th>\n",
       "      <td>...</td>\n",
       "      <td>...</td>\n",
       "      <td>...</td>\n",
       "      <td>...</td>\n",
       "      <td>...</td>\n",
       "      <td>...</td>\n",
       "      <td>...</td>\n",
       "      <td>...</td>\n",
       "      <td>...</td>\n",
       "      <td>...</td>\n",
       "      <td>...</td>\n",
       "      <td>...</td>\n",
       "    </tr>\n",
       "    <tr>\n",
       "      <th>34221</th>\n",
       "      <td>Ridgewood retreat</td>\n",
       "      <td>Sophie</td>\n",
       "      <td>Queens</td>\n",
       "      <td>Ridgewood</td>\n",
       "      <td>40.70602</td>\n",
       "      <td>-73.90485</td>\n",
       "      <td>Entire home/apt</td>\n",
       "      <td>80</td>\n",
       "      <td>5</td>\n",
       "      <td>1</td>\n",
       "      <td>0</td>\n",
       "      <td>5117.857366</td>\n",
       "    </tr>\n",
       "    <tr>\n",
       "      <th>34222</th>\n",
       "      <td>Private BR &amp; Bath near Central Park</td>\n",
       "      <td>Gabi</td>\n",
       "      <td>Manhattan</td>\n",
       "      <td>Upper West Side</td>\n",
       "      <td>40.77697</td>\n",
       "      <td>-73.97698</td>\n",
       "      <td>Private room</td>\n",
       "      <td>137</td>\n",
       "      <td>1</td>\n",
       "      <td>1</td>\n",
       "      <td>32</td>\n",
       "      <td>418.898167</td>\n",
       "    </tr>\n",
       "    <tr>\n",
       "      <th>34223</th>\n",
       "      <td>Warm Home w/ Private Garden (Inwood Manhattan ...</td>\n",
       "      <td>Mary</td>\n",
       "      <td>Manhattan</td>\n",
       "      <td>Inwood</td>\n",
       "      <td>40.86912</td>\n",
       "      <td>-73.92183</td>\n",
       "      <td>Entire home/apt</td>\n",
       "      <td>195</td>\n",
       "      <td>2</td>\n",
       "      <td>1</td>\n",
       "      <td>0</td>\n",
       "      <td>5215.680099</td>\n",
       "    </tr>\n",
       "    <tr>\n",
       "      <th>34224</th>\n",
       "      <td>Chill Bushwick Suite</td>\n",
       "      <td>Olu Bliss</td>\n",
       "      <td>Brooklyn</td>\n",
       "      <td>Bushwick</td>\n",
       "      <td>40.69709</td>\n",
       "      <td>-73.91435</td>\n",
       "      <td>Private room</td>\n",
       "      <td>80</td>\n",
       "      <td>3</td>\n",
       "      <td>1</td>\n",
       "      <td>0</td>\n",
       "      <td>5349.763870</td>\n",
       "    </tr>\n",
       "    <tr>\n",
       "      <th>34225</th>\n",
       "      <td>Cozy and simple Bedstuy studio right by the train</td>\n",
       "      <td>Ashton</td>\n",
       "      <td>Brooklyn</td>\n",
       "      <td>Bedford-Stuyvesant</td>\n",
       "      <td>40.69076</td>\n",
       "      <td>-73.92886</td>\n",
       "      <td>Entire home/apt</td>\n",
       "      <td>69</td>\n",
       "      <td>4</td>\n",
       "      <td>1</td>\n",
       "      <td>0</td>\n",
       "      <td>5436.597552</td>\n",
       "    </tr>\n",
       "  </tbody>\n",
       "</table>\n",
       "<p>34226 rows × 12 columns</p>\n",
       "</div>"
      ],
      "text/plain": [
       "                                                    name  host_name  \\\n",
       "0                           Large private room in Nolita        Nat   \n",
       "1                     Super Bowl New York City Apartment      Brian   \n",
       "2         COZY APT CLOSE TO LGA & JFK AND TRANSPORTATION      Jenny   \n",
       "3           Stream-Pressed Paradise (Laundry Room Setup)       Rita   \n",
       "4                              Charming Harlem apartment       Gina   \n",
       "...                                                  ...        ...   \n",
       "34221                                  Ridgewood retreat     Sophie   \n",
       "34222                Private BR & Bath near Central Park       Gabi   \n",
       "34223  Warm Home w/ Private Garden (Inwood Manhattan ...       Mary   \n",
       "34224                               Chill Bushwick Suite  Olu Bliss   \n",
       "34225  Cozy and simple Bedstuy studio right by the train     Ashton   \n",
       "\n",
       "      neighbourhood_group       neighbourhood  latitude  longitude  \\\n",
       "0               Manhattan              Nolita  40.72217  -73.99481   \n",
       "1               Manhattan     Upper West Side  40.80020  -73.96045   \n",
       "2                  Queens       East Elmhurst  40.75558  -73.89316   \n",
       "3           Staten Island             Concord  40.60110  -74.07830   \n",
       "4               Manhattan              Harlem  40.81022  -73.94266   \n",
       "...                   ...                 ...       ...        ...   \n",
       "34221              Queens           Ridgewood  40.70602  -73.90485   \n",
       "34222           Manhattan     Upper West Side  40.77697  -73.97698   \n",
       "34223           Manhattan              Inwood  40.86912  -73.92183   \n",
       "34224            Brooklyn            Bushwick  40.69709  -73.91435   \n",
       "34225            Brooklyn  Bedford-Stuyvesant  40.69076  -73.92886   \n",
       "\n",
       "             room_type  price  minimum_nights  calculated_host_listings_count  \\\n",
       "0         Private room    120               7                               3   \n",
       "1      Entire home/apt   1500               1                               1   \n",
       "2      Entire home/apt    200               2                               1   \n",
       "3          Shared room     30               2                               4   \n",
       "4          Shared room    115               1                               1   \n",
       "...                ...    ...             ...                             ...   \n",
       "34221  Entire home/apt     80               5                               1   \n",
       "34222     Private room    137               1                               1   \n",
       "34223  Entire home/apt    195               2                               1   \n",
       "34224     Private room     80               3                               1   \n",
       "34225  Entire home/apt     69               4                               1   \n",
       "\n",
       "       availability_365  Distance in m  \n",
       "0                     0    3531.592026  \n",
       "1                     0    1053.236649  \n",
       "2                   365    3625.877178  \n",
       "3                    82   11083.756514  \n",
       "4                   365    1928.404038  \n",
       "...                 ...            ...  \n",
       "34221                 0    5117.857366  \n",
       "34222                32     418.898167  \n",
       "34223                 0    5215.680099  \n",
       "34224                 0    5349.763870  \n",
       "34225                 0    5436.597552  \n",
       "\n",
       "[34226 rows x 12 columns]"
      ]
     },
     "execution_count": 237,
     "metadata": {},
     "output_type": "execute_result"
    }
   ],
   "source": [
    "df2 = df1.drop(['Unnamed: 0','id','host_id','number_of_reviews','last_review','reviews_per_month'],axis = 1)\n",
    "df2"
   ]
  },
  {
   "cell_type": "code",
   "execution_count": null,
   "metadata": {},
   "outputs": [],
   "source": []
  },
  {
   "cell_type": "code",
   "execution_count": 238,
   "metadata": {},
   "outputs": [
    {
     "data": {
      "text/plain": [
       "((34226, 11), (34226,))"
      ]
     },
     "execution_count": 238,
     "metadata": {},
     "output_type": "execute_result"
    }
   ],
   "source": [
    "X = df2.drop(\"price\", axis = 1)\n",
    "y = df2[\"price\"]\n",
    "X.shape, y.shape"
   ]
  },
  {
   "cell_type": "code",
   "execution_count": 239,
   "metadata": {},
   "outputs": [],
   "source": [
    "\n",
    "from sklearn.model_selection import train_test_split\n",
    "from sklearn.linear_model import LinearRegression"
   ]
  },
  {
   "cell_type": "code",
   "execution_count": 240,
   "metadata": {},
   "outputs": [
    {
     "data": {
      "text/plain": [
       "((23958, 11), (10268, 11), (23958,), (10268,))"
      ]
     },
     "execution_count": 240,
     "metadata": {},
     "output_type": "execute_result"
    }
   ],
   "source": [
    "X_train,X_test,y_train,y_test=train_test_split(X,y,test_size=0.3, random_state=10000)\n",
    "X_train.shape,X_test.shape,y_train.shape,y_test.shape"
   ]
  },
  {
   "cell_type": "code",
   "execution_count": 241,
   "metadata": {},
   "outputs": [
    {
     "ename": "ValueError",
     "evalue": "could not convert string to float: 'Private and spacious room, 15 mins to Times Square'",
     "output_type": "error",
     "traceback": [
      "\u001b[1;31m---------------------------------------------------------------------------\u001b[0m",
      "\u001b[1;31mValueError\u001b[0m                                Traceback (most recent call last)",
      "\u001b[1;32m<ipython-input-241-25d2628904d5>\u001b[0m in \u001b[0;36m<module>\u001b[1;34m\u001b[0m\n\u001b[0;32m      1\u001b[0m \u001b[0mlr\u001b[0m \u001b[1;33m=\u001b[0m \u001b[0mLinearRegression\u001b[0m\u001b[1;33m(\u001b[0m\u001b[1;33m)\u001b[0m\u001b[1;33m\u001b[0m\u001b[1;33m\u001b[0m\u001b[0m\n\u001b[1;32m----> 2\u001b[1;33m \u001b[0mlr\u001b[0m\u001b[1;33m.\u001b[0m\u001b[0mfit\u001b[0m\u001b[1;33m(\u001b[0m\u001b[0mX_train\u001b[0m\u001b[1;33m,\u001b[0m\u001b[0my_train\u001b[0m\u001b[1;33m)\u001b[0m\u001b[1;33m\u001b[0m\u001b[1;33m\u001b[0m\u001b[0m\n\u001b[0m\u001b[0;32m      3\u001b[0m \u001b[0mlr\u001b[0m\u001b[1;33m.\u001b[0m\u001b[0mscore\u001b[0m\u001b[1;33m(\u001b[0m\u001b[0mX_test\u001b[0m\u001b[1;33m,\u001b[0m\u001b[0my_test\u001b[0m\u001b[1;33m)\u001b[0m\u001b[1;33m\u001b[0m\u001b[1;33m\u001b[0m\u001b[0m\n",
      "\u001b[1;32mC:\\ProgramData\\Anaconda3\\lib\\site-packages\\sklearn\\linear_model\\_base.py\u001b[0m in \u001b[0;36mfit\u001b[1;34m(self, X, y, sample_weight)\u001b[0m\n\u001b[0;32m    504\u001b[0m         \u001b[0mn_jobs_\u001b[0m \u001b[1;33m=\u001b[0m \u001b[0mself\u001b[0m\u001b[1;33m.\u001b[0m\u001b[0mn_jobs\u001b[0m\u001b[1;33m\u001b[0m\u001b[1;33m\u001b[0m\u001b[0m\n\u001b[0;32m    505\u001b[0m         X, y = self._validate_data(X, y, accept_sparse=['csr', 'csc', 'coo'],\n\u001b[1;32m--> 506\u001b[1;33m                                    y_numeric=True, multi_output=True)\n\u001b[0m\u001b[0;32m    507\u001b[0m \u001b[1;33m\u001b[0m\u001b[0m\n\u001b[0;32m    508\u001b[0m         \u001b[1;32mif\u001b[0m \u001b[0msample_weight\u001b[0m \u001b[1;32mis\u001b[0m \u001b[1;32mnot\u001b[0m \u001b[1;32mNone\u001b[0m\u001b[1;33m:\u001b[0m\u001b[1;33m\u001b[0m\u001b[1;33m\u001b[0m\u001b[0m\n",
      "\u001b[1;32mC:\\ProgramData\\Anaconda3\\lib\\site-packages\\sklearn\\base.py\u001b[0m in \u001b[0;36m_validate_data\u001b[1;34m(self, X, y, reset, validate_separately, **check_params)\u001b[0m\n\u001b[0;32m    430\u001b[0m                 \u001b[0my\u001b[0m \u001b[1;33m=\u001b[0m \u001b[0mcheck_array\u001b[0m\u001b[1;33m(\u001b[0m\u001b[0my\u001b[0m\u001b[1;33m,\u001b[0m \u001b[1;33m**\u001b[0m\u001b[0mcheck_y_params\u001b[0m\u001b[1;33m)\u001b[0m\u001b[1;33m\u001b[0m\u001b[1;33m\u001b[0m\u001b[0m\n\u001b[0;32m    431\u001b[0m             \u001b[1;32melse\u001b[0m\u001b[1;33m:\u001b[0m\u001b[1;33m\u001b[0m\u001b[1;33m\u001b[0m\u001b[0m\n\u001b[1;32m--> 432\u001b[1;33m                 \u001b[0mX\u001b[0m\u001b[1;33m,\u001b[0m \u001b[0my\u001b[0m \u001b[1;33m=\u001b[0m \u001b[0mcheck_X_y\u001b[0m\u001b[1;33m(\u001b[0m\u001b[0mX\u001b[0m\u001b[1;33m,\u001b[0m \u001b[0my\u001b[0m\u001b[1;33m,\u001b[0m \u001b[1;33m**\u001b[0m\u001b[0mcheck_params\u001b[0m\u001b[1;33m)\u001b[0m\u001b[1;33m\u001b[0m\u001b[1;33m\u001b[0m\u001b[0m\n\u001b[0m\u001b[0;32m    433\u001b[0m             \u001b[0mout\u001b[0m \u001b[1;33m=\u001b[0m \u001b[0mX\u001b[0m\u001b[1;33m,\u001b[0m \u001b[0my\u001b[0m\u001b[1;33m\u001b[0m\u001b[1;33m\u001b[0m\u001b[0m\n\u001b[0;32m    434\u001b[0m \u001b[1;33m\u001b[0m\u001b[0m\n",
      "\u001b[1;32mC:\\ProgramData\\Anaconda3\\lib\\site-packages\\sklearn\\utils\\validation.py\u001b[0m in \u001b[0;36minner_f\u001b[1;34m(*args, **kwargs)\u001b[0m\n\u001b[0;32m     70\u001b[0m                           FutureWarning)\n\u001b[0;32m     71\u001b[0m         \u001b[0mkwargs\u001b[0m\u001b[1;33m.\u001b[0m\u001b[0mupdate\u001b[0m\u001b[1;33m(\u001b[0m\u001b[1;33m{\u001b[0m\u001b[0mk\u001b[0m\u001b[1;33m:\u001b[0m \u001b[0marg\u001b[0m \u001b[1;32mfor\u001b[0m \u001b[0mk\u001b[0m\u001b[1;33m,\u001b[0m \u001b[0marg\u001b[0m \u001b[1;32min\u001b[0m \u001b[0mzip\u001b[0m\u001b[1;33m(\u001b[0m\u001b[0msig\u001b[0m\u001b[1;33m.\u001b[0m\u001b[0mparameters\u001b[0m\u001b[1;33m,\u001b[0m \u001b[0margs\u001b[0m\u001b[1;33m)\u001b[0m\u001b[1;33m}\u001b[0m\u001b[1;33m)\u001b[0m\u001b[1;33m\u001b[0m\u001b[1;33m\u001b[0m\u001b[0m\n\u001b[1;32m---> 72\u001b[1;33m         \u001b[1;32mreturn\u001b[0m \u001b[0mf\u001b[0m\u001b[1;33m(\u001b[0m\u001b[1;33m**\u001b[0m\u001b[0mkwargs\u001b[0m\u001b[1;33m)\u001b[0m\u001b[1;33m\u001b[0m\u001b[1;33m\u001b[0m\u001b[0m\n\u001b[0m\u001b[0;32m     73\u001b[0m     \u001b[1;32mreturn\u001b[0m \u001b[0minner_f\u001b[0m\u001b[1;33m\u001b[0m\u001b[1;33m\u001b[0m\u001b[0m\n\u001b[0;32m     74\u001b[0m \u001b[1;33m\u001b[0m\u001b[0m\n",
      "\u001b[1;32mC:\\ProgramData\\Anaconda3\\lib\\site-packages\\sklearn\\utils\\validation.py\u001b[0m in \u001b[0;36mcheck_X_y\u001b[1;34m(X, y, accept_sparse, accept_large_sparse, dtype, order, copy, force_all_finite, ensure_2d, allow_nd, multi_output, ensure_min_samples, ensure_min_features, y_numeric, estimator)\u001b[0m\n\u001b[0;32m    800\u001b[0m                     \u001b[0mensure_min_samples\u001b[0m\u001b[1;33m=\u001b[0m\u001b[0mensure_min_samples\u001b[0m\u001b[1;33m,\u001b[0m\u001b[1;33m\u001b[0m\u001b[1;33m\u001b[0m\u001b[0m\n\u001b[0;32m    801\u001b[0m                     \u001b[0mensure_min_features\u001b[0m\u001b[1;33m=\u001b[0m\u001b[0mensure_min_features\u001b[0m\u001b[1;33m,\u001b[0m\u001b[1;33m\u001b[0m\u001b[1;33m\u001b[0m\u001b[0m\n\u001b[1;32m--> 802\u001b[1;33m                     estimator=estimator)\n\u001b[0m\u001b[0;32m    803\u001b[0m     \u001b[1;32mif\u001b[0m \u001b[0mmulti_output\u001b[0m\u001b[1;33m:\u001b[0m\u001b[1;33m\u001b[0m\u001b[1;33m\u001b[0m\u001b[0m\n\u001b[0;32m    804\u001b[0m         y = check_array(y, accept_sparse='csr', force_all_finite=True,\n",
      "\u001b[1;32mC:\\ProgramData\\Anaconda3\\lib\\site-packages\\sklearn\\utils\\validation.py\u001b[0m in \u001b[0;36minner_f\u001b[1;34m(*args, **kwargs)\u001b[0m\n\u001b[0;32m     70\u001b[0m                           FutureWarning)\n\u001b[0;32m     71\u001b[0m         \u001b[0mkwargs\u001b[0m\u001b[1;33m.\u001b[0m\u001b[0mupdate\u001b[0m\u001b[1;33m(\u001b[0m\u001b[1;33m{\u001b[0m\u001b[0mk\u001b[0m\u001b[1;33m:\u001b[0m \u001b[0marg\u001b[0m \u001b[1;32mfor\u001b[0m \u001b[0mk\u001b[0m\u001b[1;33m,\u001b[0m \u001b[0marg\u001b[0m \u001b[1;32min\u001b[0m \u001b[0mzip\u001b[0m\u001b[1;33m(\u001b[0m\u001b[0msig\u001b[0m\u001b[1;33m.\u001b[0m\u001b[0mparameters\u001b[0m\u001b[1;33m,\u001b[0m \u001b[0margs\u001b[0m\u001b[1;33m)\u001b[0m\u001b[1;33m}\u001b[0m\u001b[1;33m)\u001b[0m\u001b[1;33m\u001b[0m\u001b[1;33m\u001b[0m\u001b[0m\n\u001b[1;32m---> 72\u001b[1;33m         \u001b[1;32mreturn\u001b[0m \u001b[0mf\u001b[0m\u001b[1;33m(\u001b[0m\u001b[1;33m**\u001b[0m\u001b[0mkwargs\u001b[0m\u001b[1;33m)\u001b[0m\u001b[1;33m\u001b[0m\u001b[1;33m\u001b[0m\u001b[0m\n\u001b[0m\u001b[0;32m     73\u001b[0m     \u001b[1;32mreturn\u001b[0m \u001b[0minner_f\u001b[0m\u001b[1;33m\u001b[0m\u001b[1;33m\u001b[0m\u001b[0m\n\u001b[0;32m     74\u001b[0m \u001b[1;33m\u001b[0m\u001b[0m\n",
      "\u001b[1;32mC:\\ProgramData\\Anaconda3\\lib\\site-packages\\sklearn\\utils\\validation.py\u001b[0m in \u001b[0;36mcheck_array\u001b[1;34m(array, accept_sparse, accept_large_sparse, dtype, order, copy, force_all_finite, ensure_2d, allow_nd, ensure_min_samples, ensure_min_features, estimator)\u001b[0m\n\u001b[0;32m    596\u001b[0m                     \u001b[0marray\u001b[0m \u001b[1;33m=\u001b[0m \u001b[0marray\u001b[0m\u001b[1;33m.\u001b[0m\u001b[0mastype\u001b[0m\u001b[1;33m(\u001b[0m\u001b[0mdtype\u001b[0m\u001b[1;33m,\u001b[0m \u001b[0mcasting\u001b[0m\u001b[1;33m=\u001b[0m\u001b[1;34m\"unsafe\"\u001b[0m\u001b[1;33m,\u001b[0m \u001b[0mcopy\u001b[0m\u001b[1;33m=\u001b[0m\u001b[1;32mFalse\u001b[0m\u001b[1;33m)\u001b[0m\u001b[1;33m\u001b[0m\u001b[1;33m\u001b[0m\u001b[0m\n\u001b[0;32m    597\u001b[0m                 \u001b[1;32melse\u001b[0m\u001b[1;33m:\u001b[0m\u001b[1;33m\u001b[0m\u001b[1;33m\u001b[0m\u001b[0m\n\u001b[1;32m--> 598\u001b[1;33m                     \u001b[0marray\u001b[0m \u001b[1;33m=\u001b[0m \u001b[0mnp\u001b[0m\u001b[1;33m.\u001b[0m\u001b[0masarray\u001b[0m\u001b[1;33m(\u001b[0m\u001b[0marray\u001b[0m\u001b[1;33m,\u001b[0m \u001b[0morder\u001b[0m\u001b[1;33m=\u001b[0m\u001b[0morder\u001b[0m\u001b[1;33m,\u001b[0m \u001b[0mdtype\u001b[0m\u001b[1;33m=\u001b[0m\u001b[0mdtype\u001b[0m\u001b[1;33m)\u001b[0m\u001b[1;33m\u001b[0m\u001b[1;33m\u001b[0m\u001b[0m\n\u001b[0m\u001b[0;32m    599\u001b[0m             \u001b[1;32mexcept\u001b[0m \u001b[0mComplexWarning\u001b[0m\u001b[1;33m:\u001b[0m\u001b[1;33m\u001b[0m\u001b[1;33m\u001b[0m\u001b[0m\n\u001b[0;32m    600\u001b[0m                 raise ValueError(\"Complex data not supported\\n\"\n",
      "\u001b[1;32mC:\\ProgramData\\Anaconda3\\lib\\site-packages\\numpy\\core\\_asarray.py\u001b[0m in \u001b[0;36masarray\u001b[1;34m(a, dtype, order)\u001b[0m\n\u001b[0;32m     83\u001b[0m \u001b[1;33m\u001b[0m\u001b[0m\n\u001b[0;32m     84\u001b[0m     \"\"\"\n\u001b[1;32m---> 85\u001b[1;33m     \u001b[1;32mreturn\u001b[0m \u001b[0marray\u001b[0m\u001b[1;33m(\u001b[0m\u001b[0ma\u001b[0m\u001b[1;33m,\u001b[0m \u001b[0mdtype\u001b[0m\u001b[1;33m,\u001b[0m \u001b[0mcopy\u001b[0m\u001b[1;33m=\u001b[0m\u001b[1;32mFalse\u001b[0m\u001b[1;33m,\u001b[0m \u001b[0morder\u001b[0m\u001b[1;33m=\u001b[0m\u001b[0morder\u001b[0m\u001b[1;33m)\u001b[0m\u001b[1;33m\u001b[0m\u001b[1;33m\u001b[0m\u001b[0m\n\u001b[0m\u001b[0;32m     86\u001b[0m \u001b[1;33m\u001b[0m\u001b[0m\n\u001b[0;32m     87\u001b[0m \u001b[1;33m\u001b[0m\u001b[0m\n",
      "\u001b[1;32mC:\\ProgramData\\Anaconda3\\lib\\site-packages\\pandas\\core\\generic.py\u001b[0m in \u001b[0;36m__array__\u001b[1;34m(self, dtype)\u001b[0m\n\u001b[0;32m   1776\u001b[0m \u001b[1;33m\u001b[0m\u001b[0m\n\u001b[0;32m   1777\u001b[0m     \u001b[1;32mdef\u001b[0m \u001b[0m__array__\u001b[0m\u001b[1;33m(\u001b[0m\u001b[0mself\u001b[0m\u001b[1;33m,\u001b[0m \u001b[0mdtype\u001b[0m\u001b[1;33m=\u001b[0m\u001b[1;32mNone\u001b[0m\u001b[1;33m)\u001b[0m \u001b[1;33m->\u001b[0m \u001b[0mnp\u001b[0m\u001b[1;33m.\u001b[0m\u001b[0mndarray\u001b[0m\u001b[1;33m:\u001b[0m\u001b[1;33m\u001b[0m\u001b[1;33m\u001b[0m\u001b[0m\n\u001b[1;32m-> 1778\u001b[1;33m         \u001b[1;32mreturn\u001b[0m \u001b[0mnp\u001b[0m\u001b[1;33m.\u001b[0m\u001b[0masarray\u001b[0m\u001b[1;33m(\u001b[0m\u001b[0mself\u001b[0m\u001b[1;33m.\u001b[0m\u001b[0m_values\u001b[0m\u001b[1;33m,\u001b[0m \u001b[0mdtype\u001b[0m\u001b[1;33m=\u001b[0m\u001b[0mdtype\u001b[0m\u001b[1;33m)\u001b[0m\u001b[1;33m\u001b[0m\u001b[1;33m\u001b[0m\u001b[0m\n\u001b[0m\u001b[0;32m   1779\u001b[0m \u001b[1;33m\u001b[0m\u001b[0m\n\u001b[0;32m   1780\u001b[0m     \u001b[1;32mdef\u001b[0m \u001b[0m__array_wrap__\u001b[0m\u001b[1;33m(\u001b[0m\u001b[0mself\u001b[0m\u001b[1;33m,\u001b[0m \u001b[0mresult\u001b[0m\u001b[1;33m,\u001b[0m \u001b[0mcontext\u001b[0m\u001b[1;33m=\u001b[0m\u001b[1;32mNone\u001b[0m\u001b[1;33m)\u001b[0m\u001b[1;33m:\u001b[0m\u001b[1;33m\u001b[0m\u001b[1;33m\u001b[0m\u001b[0m\n",
      "\u001b[1;32mC:\\ProgramData\\Anaconda3\\lib\\site-packages\\numpy\\core\\_asarray.py\u001b[0m in \u001b[0;36masarray\u001b[1;34m(a, dtype, order)\u001b[0m\n\u001b[0;32m     83\u001b[0m \u001b[1;33m\u001b[0m\u001b[0m\n\u001b[0;32m     84\u001b[0m     \"\"\"\n\u001b[1;32m---> 85\u001b[1;33m     \u001b[1;32mreturn\u001b[0m \u001b[0marray\u001b[0m\u001b[1;33m(\u001b[0m\u001b[0ma\u001b[0m\u001b[1;33m,\u001b[0m \u001b[0mdtype\u001b[0m\u001b[1;33m,\u001b[0m \u001b[0mcopy\u001b[0m\u001b[1;33m=\u001b[0m\u001b[1;32mFalse\u001b[0m\u001b[1;33m,\u001b[0m \u001b[0morder\u001b[0m\u001b[1;33m=\u001b[0m\u001b[0morder\u001b[0m\u001b[1;33m)\u001b[0m\u001b[1;33m\u001b[0m\u001b[1;33m\u001b[0m\u001b[0m\n\u001b[0m\u001b[0;32m     86\u001b[0m \u001b[1;33m\u001b[0m\u001b[0m\n\u001b[0;32m     87\u001b[0m \u001b[1;33m\u001b[0m\u001b[0m\n",
      "\u001b[1;31mValueError\u001b[0m: could not convert string to float: 'Private and spacious room, 15 mins to Times Square'"
     ]
    }
   ],
   "source": [
    "lr = LinearRegression()\n",
    "lr.fit(X_train,y_train)\n",
    "lr.score(X_test,y_test)"
   ]
  },
  {
   "cell_type": "code",
   "execution_count": null,
   "metadata": {},
   "outputs": [],
   "source": []
  }
 ],
 "metadata": {
  "kernelspec": {
   "display_name": "Python 3",
   "language": "python",
   "name": "python3"
  },
  "language_info": {
   "codemirror_mode": {
    "name": "ipython",
    "version": 3
   },
   "file_extension": ".py",
   "mimetype": "text/x-python",
   "name": "python",
   "nbconvert_exporter": "python",
   "pygments_lexer": "ipython3",
   "version": "3.7.6"
  }
 },
 "nbformat": 4,
 "nbformat_minor": 4
}
